{
 "metadata": {
  "name": "",
  "signature": "sha256:396d9063955386a98e2857545fcfe2b44a6473f825084fc7e608c3558bd93a34"
 },
 "nbformat": 3,
 "nbformat_minor": 0,
 "worksheets": [
  {
   "cells": [
    {
     "cell_type": "markdown",
     "metadata": {},
     "source": [
      "Esenciales de Python 1\n",
      "=====\n",
      "\n",
      "Bienvenidos al curso de Python Interactivo, [IPython](http://www.ipython.org). Python es un lenguaje de programacion que como vimos en al introduccion ha ganado terreno debido a su facilidad de uso en diversas aplicaciones, desde cientificas hasta de desarrollo. \n",
      "\n",
      "Si ya estan familiarizados con Python esta seccion les servira de recordatorio; en caso contrario esta introduccion basica servira de inicio para el curso."
     ]
    },
    {
     "cell_type": "markdown",
     "metadata": {},
     "source": [
      "# Instalando Python\n",
      "\n",
      "Les pedi antes del inicio del curso que intentaran instalara Python. La forma mas sencilla de hacerlo y que configura el sistema con todas las dependencias que necesitaremos a lo largo del curso es usando `Anaconda`. La informacion detallada de [como instalar el ambiente de IPython pueden consultarla en este documento.](../Dia1/Lib00_Esenciales_Instalacion.ipynb)"
     ]
    },
    {
     "cell_type": "markdown",
     "metadata": {},
     "source": [
      "# Iniciando Python\n",
      "\n",
      "Una vez instalado Python en su sistema, pueden iniciar el interprete interactivo escribiendo `python` en la linea de comando. Al iniciar deber mostrarles informacion del contexto de Python similar a la que se muestra a continuacion:\n",
      "    \n",
      "    Python 2.7.8 |Anaconda 2.0.1 (x86_64)| (default, Aug 21 2014, 15:21:46)\n",
      "    [GCC 4.2.1 (Apple Inc. build 5577)] on darwin\n",
      "    Type \"help\", \"copyright\", \"credits\" or \"license\" for more information.\n",
      "    >>>\n",
      "\n",
      "en Windows puede iniciarse Python a traves del menu de inicio.\n",
      "\n",
      "Para salir del interprete de Python, presionen la combinacion de teclas `Ctrl-D`.\n",
      "\n",
      "Para ejecutar un programa salvando en un archivo de Python, puede correrse desde la linea de comando escribiendo:\n",
      "\n",
      "    python programa.py\n",
      "\n",
      "En Windows puede ejecutarse un archivo de Python dandole doble click."
     ]
    },
    {
     "cell_type": "markdown",
     "metadata": {},
     "source": [
      "# Loops\n",
      "\n",
      "Que hacen las siguientes lineas de codigo?\n",
      "\n",
      "    for i in 2, 4, 6, 8:\n",
      "        print(i)"
     ]
    },
    {
     "cell_type": "markdown",
     "metadata": {},
     "source": [
      "### En esta celda escriban su solucion"
     ]
    },
    {
     "cell_type": "code",
     "collapsed": false,
     "input": [
      "# Escriban y ejecuten el codigo en esta celda\n",
      "# El programa iterara sobre los enteros 2,4,6,8 y los imprime\n",
      "for i in 2,4,6,8:\n",
      "    print(i)\n"
     ],
     "language": "python",
     "metadata": {},
     "outputs": [
      {
       "output_type": "stream",
       "stream": "stdout",
       "text": [
        "2\n",
        "4\n",
        "6\n",
        "8\n"
       ]
      }
     ],
     "prompt_number": 1
    },
    {
     "cell_type": "markdown",
     "metadata": {},
     "source": [
      "## Ejercicio\n",
      "Python tiene una funcion interna llamada `range` que automaticamente genera un intervalo de numeros como \\[2,4,6,8\\]. Por ejemplo, `range(1,10)` es una secuencia de los numeros 1 al 9, excluyendo el  valor extremo, en este caso el 10. Esto ultimo puede confundir pero quizas estan ya acostumbrados.\n",
      "\n",
      "    for i in range(1,10):\n",
      "        print(i)\n",
      "\n",
      "Escriban estas lineas de codigo y ejecutenlas. Despues, usando la funcion `range` obtengan una secuencia de numeros equivalente a \\[2, 4, 6, 8\\]? \n",
      "\n",
      "Pueden encontrar acceder a la ayuda si escriben `help(range)` o `range?`. La informacion que les sera util esta cerca del inicio de la ayuda. Cuando terminen de consultar la ayuda, presionen 'q' para regresar al interprete."
     ]
    },
    {
     "cell_type": "code",
     "collapsed": false,
     "input": [
      "# Escriban y ejecuten el codigo en esta celda\n",
      "for i in range(1,10):\n",
      "    print(i)\n",
      "    \n",
      "for i in range(2,9,2):\n",
      "    print (i)\n",
      "    \n",
      "\n"
     ],
     "language": "python",
     "metadata": {},
     "outputs": [
      {
       "output_type": "stream",
       "stream": "stdout",
       "text": [
        "1\n",
        "2\n",
        "3\n",
        "4\n",
        "5\n",
        "6\n",
        "7\n",
        "8\n",
        "9\n",
        "2\n",
        "4\n",
        "6\n",
        "8\n"
       ]
      }
     ],
     "prompt_number": 14
    },
    {
     "cell_type": "markdown",
     "metadata": {},
     "source": [
      "# Variables\n",
      "\n",
      "Pueden usar variables para manipular valores dentro de un programa. Que hacen las siguientes lineas de codigo?\n",
      "\n",
      "    total = 0\n",
      "    for i in 1, 3, 7:\n",
      "        total = total + i\n",
      "    print(total)"
     ]
    },
    {
     "cell_type": "markdown",
     "metadata": {},
     "source": [
      "### En esta celda escriban su solucion"
     ]
    },
    {
     "cell_type": "code",
     "collapsed": false,
     "input": [
      "# Escriban y ejecuten el codigo en esta celda\n",
      "# hace una sumatoria de los valores de i\n",
      "\n",
      "total=0\n",
      "for i in 1,3,7:\n",
      "    total =total+i \n",
      "print(total)"
     ],
     "language": "python",
     "metadata": {},
     "outputs": [
      {
       "output_type": "stream",
       "stream": "stdout",
       "text": [
        "11\n"
       ]
      }
     ],
     "prompt_number": 19
    },
    {
     "cell_type": "markdown",
     "metadata": {},
     "source": [
      "## Ejercicio\n",
      "\n",
      "Si por algun motivo no quieren usar un loop `for`, Python tiene una function interna llamada `sum` que permite evitar el uso de `for`. Pueden obtener el mismo resultado que el loop anterior con:\n",
      "\n",
      "    print(sum([1,3,7]))\n",
      "\n",
      "Escriban una sola linea de instruccion que, usando `sum` y `range` de la suma de los numeros del 1 al 100"
     ]
    },
    {
     "cell_type": "code",
     "collapsed": false,
     "input": [
      "# Escriban y ejecuten el codigo en esta celda\n",
      "print(sum([1,3,7]))\n",
      "\n",
      "print(sum(range(1,100)))"
     ],
     "language": "python",
     "metadata": {},
     "outputs": [
      {
       "output_type": "stream",
       "stream": "stdout",
       "text": [
        "11\n",
        "4950\n"
       ]
      }
     ],
     "prompt_number": 23
    },
    {
     "cell_type": "markdown",
     "metadata": {},
     "source": [
      "# Funciones\n",
      "\n",
      "Es posible definir funciones con parametros, utiles para reusar codigo. Que hacen las siguientes lineas de codigo?\n",
      "\n",
      "    def saluda_a(nombre):\n",
      "        print(\"Hola \" + nombre)\n",
      "\n",
      "    saluda_a(\"Miranda\")\n",
      "    saluda_a(\"Fede\")"
     ]
    },
    {
     "cell_type": "markdown",
     "metadata": {},
     "source": [
      "### En esta celda escriban su solucion"
     ]
    },
    {
     "cell_type": "code",
     "collapsed": false,
     "input": [
      "# Escriban y ejecuten el codigo en esta celda\n",
      "# Se declara una funci\u00f3n con un par\u00e1metro y luego se llama la funci\u00f3n para ejecutarla\n",
      "def saluda_a(nombre):\n",
      "    print(\"Hola \" + nombre)\n",
      "    \n",
      "saluda_a(\"Miranda\")\n",
      "saluda_a(\"Fede\")"
     ],
     "language": "python",
     "metadata": {},
     "outputs": [
      {
       "output_type": "stream",
       "stream": "stdout",
       "text": [
        "Hola Miranda\n",
        "Hola Fede\n"
       ]
      }
     ],
     "prompt_number": 24
    },
    {
     "cell_type": "markdown",
     "metadata": {},
     "source": [
      "# Condicionales\n",
      "\n",
      "Se pueden usar expresiones con 'if' para ejecutar unicamente algunos comandos si alguna condicion se cumple. Que hacen las siguientes lineas de codigo?\n",
      "\n",
      "    angulo = 5\n",
      "    if angulo > 0:\n",
      "        print(\"Girando en sentido dextrogiro\")\n",
      "    elif angulo < 0:\n",
      "        print(\"Girando en sentido levogiro\")\n",
      "    else:\n",
      "        print(\"No girando\")"
     ]
    },
    {
     "cell_type": "markdown",
     "metadata": {},
     "source": [
      "### En esta celda escriban su solucion"
     ]
    },
    {
     "cell_type": "code",
     "collapsed": false,
     "input": [
      "# Escriban y ejecuten el codigo en esta celda\n",
      "# Asigan un valor a una variable y despu\u00e9s lo eval\u00faa dependiendo de su valor realiza una u otra instrucci\u00f3n\n",
      "angulo =5\n",
      "if angulo>0:\n",
      "    print(\"Girando en sentido dextrogiro\")\n",
      "elif angulo<0:\n",
      "    print(\"Girando en sentido levogiro\")\n",
      "else:\n",
      "    print(\"No girando\")"
     ],
     "language": "python",
     "metadata": {},
     "outputs": [
      {
       "output_type": "stream",
       "stream": "stdout",
       "text": [
        "Girando en sentido dextrogiro\n"
       ]
      }
     ],
     "prompt_number": 26
    },
    {
     "cell_type": "markdown",
     "metadata": {},
     "source": [
      "## Modulo siguiente\n",
      "Antes de pasar al siguiente modulo, guarden los cambios realizados.\n",
      "\n",
      "El siguiente modulo presenta algunas [estructuras de datos en Python](Lib02_Esenciales_DataStructures.ipynb)"
     ]
    }
   ],
   "metadata": {}
  }
 ]
}