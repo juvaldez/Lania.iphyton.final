{
 "metadata": {
  "name": "",
  "signature": "sha256:4ff2a19daf57eb35b607adb170af0b6c7f84b6179e7213a720587e7ef9727b2d"
 },
 "nbformat": 3,
 "nbformat_minor": 0,
 "worksheets": [
  {
   "cells": [
    {
     "cell_type": "markdown",
     "metadata": {},
     "source": [
      "Detectando rostros interactivamente\n",
      "===============\n",
      "\n",
      "Para darnos una idea de como puede usarse IPython.parallel, presentaremos este ejemplo donde trataremos de detectar rostros usando la libreria OpenCV."
     ]
    },
    {
     "cell_type": "code",
     "collapsed": false,
     "input": [
      "%matplotlib inline\n",
      "import matplotlib.pyplot as plt"
     ],
     "language": "python",
     "metadata": {},
     "outputs": [],
     "prompt_number": 1
    },
    {
     "cell_type": "code",
     "collapsed": false,
     "input": [
      "import sys, os, re, time\n",
      "\n",
      "import numpy as np\n",
      "\n",
      "import cv2\n",
      "\n",
      "from IPython import parallel"
     ],
     "language": "python",
     "metadata": {},
     "outputs": [],
     "prompt_number": 2
    },
    {
     "cell_type": "code",
     "collapsed": false,
     "input": [
      "def extract_faces(image,faces):\n",
      "    \"\"\"\n",
      "        Returns any faces in an image \n",
      "        in a list of numpy arrays\n",
      "    \"\"\"\n",
      "    \n",
      "    import numpy as np\n",
      "    A = np.frombuffer(image.tostring(), dtype=np.int8).reshape((image.shape))\n",
      "    A = A[:,:,::-1]\n",
      "    face_arrays = []\n",
      "    for face in faces:\n",
      "        Aface = A[face[1]:face[1]+face[3], face[0]:face[0]+face[2]]\n",
      "        face_arrays.append(Aface)\n",
      "    return face_arrays"
     ],
     "language": "python",
     "metadata": {},
     "outputs": [],
     "prompt_number": 3
    },
    {
     "cell_type": "code",
     "collapsed": false,
     "input": [
      "pictures_dir = os.path.join('images', 'portrait')"
     ],
     "language": "python",
     "metadata": {},
     "outputs": [],
     "prompt_number": 13
    },
    {
     "cell_type": "code",
     "collapsed": false,
     "input": [
      "pictures = []\n",
      "for directory, subdirs, files in os.walk(pictures_dir):\n",
      "    for fname in files:\n",
      "        if fname.lower().endswith(('.jpg', '.png')):\n",
      "            pictures.append(os.path.join(directory,fname))\n",
      "pictures\n",
      "            "
     ],
     "language": "python",
     "metadata": {},
     "outputs": [
      {
       "metadata": {},
       "output_type": "pyout",
       "prompt_number": 14,
       "text": [
        "['images/portrait/Narbut_Self-portrait_with_the_wife.jpg',\n",
        " 'images/portrait/Namora_portrait_80.jpg',\n",
        " 'images/portrait/Portrait-Ivan.jpg',\n",
        " 'images/portrait/Camille_Blanc_-_portrait.jpg']"
       ]
      }
     ],
     "prompt_number": 14
    },
    {
     "cell_type": "code",
     "collapsed": false,
     "input": [
      "pic = pictures[0]\n",
      "\n",
      "img = cv2.imread(pic)\n",
      "gray = cv2.cvtColor(img, cv2.COLOR_BGR2GRAY)\n",
      "faces = [] \n",
      "face_cascade = cv2.CascadeClassifier('haarcascade_frontalface_default.xml')\n",
      "detected = face_cascade.detectMultiScale(gray, 1.2, 2)\n",
      "if detected:\n",
      "    \n",
      "    for (x,y,w,h) in detected:\n",
      "            faces.append((x,y,w,h))\n",
      "\n",
      "faces\n",
      "\n",
      "# plt.imshow(extract_faces(img, faces)[0][:,:,::-1])"
     ],
     "language": "python",
     "metadata": {},
     "outputs": [
      {
       "metadata": {},
       "output_type": "pyout",
       "prompt_number": 24,
       "text": [
        "[]"
       ]
      }
     ],
     "prompt_number": 24
    },
    {
     "cell_type": "code",
     "collapsed": false,
     "input": [
      "def detect_faces(filename):\n",
      "    \"\"\"\n",
      "        Loads an image into OpenCV, and detects faces\n",
      "    \n",
      "        returns None if no image is found,\n",
      "        (filename, [list of numpy arrays]) if there are faces\n",
      "    \"\"\"\n",
      "    face_cascade = cv2.CascadeClassifier('haarcascade_frontalface_default.xml')\n",
      "    img = cv2.imread(filename)\n",
      "    gray = cv2.cvtColor(img, cv2.COLOR_BGR2GRAY)\n",
      "    faces = []\n",
      "    detected = face_cascade.detectMultiScale(gray, 1.2, 2)\n",
      "    if detected:\n",
      "        for (x,y,w,h) in detected:\n",
      "            faces.append((x,y,w,h))\n",
      "    if faces:\n",
      "        return filename, extract_faces(img, faces)\n",
      "    "
     ],
     "language": "python",
     "metadata": {},
     "outputs": [],
     "prompt_number": 25
    },
    {
     "cell_type": "code",
     "collapsed": false,
     "input": [
      "for p in pictures:\n",
      "    filename,faces = detect_faces(p)\n",
      "    for face in faces:\n",
      "        plt.figure()\n",
      "        plt.imshow(face)"
     ],
     "language": "python",
     "metadata": {},
     "outputs": [
      {
       "ename": "TypeError",
       "evalue": "'NoneType' object is not iterable",
       "output_type": "pyerr",
       "traceback": [
        "\u001b[1;31m---------------------------------------------------------------------------\u001b[0m\n\u001b[1;31mTypeError\u001b[0m                                 Traceback (most recent call last)",
        "\u001b[1;32m<ipython-input-26-49d36a47b057>\u001b[0m in \u001b[0;36m<module>\u001b[1;34m()\u001b[0m\n\u001b[0;32m      1\u001b[0m \u001b[1;32mfor\u001b[0m \u001b[0mp\u001b[0m \u001b[1;32min\u001b[0m \u001b[0mpictures\u001b[0m\u001b[1;33m:\u001b[0m\u001b[1;33m\u001b[0m\u001b[0m\n\u001b[1;32m----> 2\u001b[1;33m     \u001b[0mfilename\u001b[0m\u001b[1;33m,\u001b[0m\u001b[0mfaces\u001b[0m \u001b[1;33m=\u001b[0m \u001b[0mdetect_faces\u001b[0m\u001b[1;33m(\u001b[0m\u001b[0mp\u001b[0m\u001b[1;33m)\u001b[0m\u001b[1;33m\u001b[0m\u001b[0m\n\u001b[0m\u001b[0;32m      3\u001b[0m     \u001b[1;32mfor\u001b[0m \u001b[0mface\u001b[0m \u001b[1;32min\u001b[0m \u001b[0mfaces\u001b[0m\u001b[1;33m:\u001b[0m\u001b[1;33m\u001b[0m\u001b[0m\n\u001b[0;32m      4\u001b[0m         \u001b[0mplt\u001b[0m\u001b[1;33m.\u001b[0m\u001b[0mfigure\u001b[0m\u001b[1;33m(\u001b[0m\u001b[1;33m)\u001b[0m\u001b[1;33m\u001b[0m\u001b[0m\n\u001b[0;32m      5\u001b[0m         \u001b[0mplt\u001b[0m\u001b[1;33m.\u001b[0m\u001b[0mimshow\u001b[0m\u001b[1;33m(\u001b[0m\u001b[0mface\u001b[0m\u001b[1;33m)\u001b[0m\u001b[1;33m\u001b[0m\u001b[0m\n",
        "\u001b[1;31mTypeError\u001b[0m: 'NoneType' object is not iterable"
       ]
      }
     ],
     "prompt_number": 26
    },
    {
     "cell_type": "code",
     "collapsed": false,
     "input": [
      "filename"
     ],
     "language": "python",
     "metadata": {},
     "outputs": [
      {
       "metadata": {},
       "output_type": "pyout",
       "prompt_number": 29,
       "text": [
        "'../images/portrait/Camille_Blanc_-_portrait.jpg'"
       ]
      }
     ],
     "prompt_number": 29
    },
    {
     "cell_type": "code",
     "collapsed": false,
     "input": [],
     "language": "python",
     "metadata": {},
     "outputs": []
    },
    {
     "cell_type": "code",
     "collapsed": false,
     "input": [],
     "language": "python",
     "metadata": {},
     "outputs": []
    },
    {
     "cell_type": "code",
     "collapsed": false,
     "input": [],
     "language": "python",
     "metadata": {},
     "outputs": []
    }
   ],
   "metadata": {}
  }
 ]
}