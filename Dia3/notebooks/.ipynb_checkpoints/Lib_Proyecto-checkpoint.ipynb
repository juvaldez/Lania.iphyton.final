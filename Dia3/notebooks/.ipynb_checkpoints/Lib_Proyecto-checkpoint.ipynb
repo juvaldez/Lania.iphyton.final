{
 "metadata": {
  "name": "",
  "signature": "sha256:4917800f7cf27300184a6422d96f62d84187a9a95a8359dc7fe32ca5aff63768"
 },
 "nbformat": 3,
 "nbformat_minor": 0,
 "worksheets": [
  {
   "cells": [
    {
     "cell_type": "code",
     "collapsed": false,
     "input": [
      "%%cmd\n",
      "adb forward tcp:9999 tcp:43815"
     ],
     "language": "python",
     "metadata": {},
     "outputs": [
      {
       "output_type": "stream",
       "stream": "stdout",
       "text": [
        "Microsoft Windows [Versi\ufffdn 6.3.9600]\r\n",
        "(c) 2013 Microsoft Corporation. Todos los derechos reservados.\r\n",
        "\r\n",
        "C:\\Users\\juanis\\Documents\\GitHub\\Lania.iphyton.final\\Dia3\\notebooks>adb forward tcp:9999 tcp:43815\n",
        "\r\n",
        "C:\\Users\\juanis\\Documents\\GitHub\\Lania.iphyton.final\\Dia3\\notebooks>"
       ]
      }
     ],
     "prompt_number": 22
    },
    {
     "cell_type": "code",
     "collapsed": false,
     "input": [
      "import android"
     ],
     "language": "python",
     "metadata": {},
     "outputs": [],
     "prompt_number": 23
    },
    {
     "cell_type": "code",
     "collapsed": false,
     "input": [
      "droide = android.Android()"
     ],
     "language": "python",
     "metadata": {},
     "outputs": [],
     "prompt_number": 24
    },
    {
     "cell_type": "code",
     "collapsed": false,
     "input": [
      "import time"
     ],
     "language": "python",
     "metadata": {},
     "outputs": [],
     "prompt_number": 25
    },
    {
     "cell_type": "code",
     "collapsed": false,
     "input": [
      "droide.dialogCreateAlert(\"\u00bfDesea obtener su ubicaci\u00f3n\")\n",
      "droide.dialogSetPositiveButtonText(\"Si\")\n",
      "droide.dialogSetNegativeButtonText(\"No\")\n",
      "#droide.dialogSetNeutralButtonText(\"Aceptar\")\n",
      "droide.dialogShow()\n",
      "response=droide.dialogGetResponse().result\n",
      "droide.dialogDismiss()\n",
      "if response.has_key(\"which\"):\n",
      "  result=response[\"which\"]\n",
      "  if result==\"positive\":\n",
      "    droide.ttsSpeak(\"Obteniendo ubicaci\u00f3n\")\n",
      "    droide.startLocating()                \n",
      "    time.sleep(15)\n",
      "    loc = droide.readLocation().result\n",
      "    if loc == {}:\n",
      "      loc = getLastKnownLocation().result\n",
      "    if loc != {}:\n",
      "      try:\n",
      "        n = loc['gps']\n",
      "      except KeyError:\n",
      "        n = loc['network'] \n",
      "      la = n['latitude'] \n",
      "      lo = n['longitude']\n",
      "      address = droide.geocode(la, lo).result\n",
      "    droide.stopLocating()        \n",
      "    direccion=address[0][\"feature_name\"]\n",
      "    droide.ttsSpeak(direccion)\n",
      "    droide.ttsSpeak(address[0][\"sub_admin_area\"])\n",
      "    droide.ttsSpeak(address[0][\"admin_area\"])\n",
      "    droide.ttsSpeak(address[0][\"country_name\"])            \n",
      "    droide.ttsSpeak(\"Finalizando aplicaci\u00f3n\")\n",
      "    \n",
      "  elif result==\"negative\":\n",
      "    droide.ttsSpeak(\"Finalizando aplicaci\u00f3n\")\n",
      "elif response.has_key(\"canceled\"): # Yes, I know it's mispelled.\n",
      "  print \"You can't even make up your mind?\"\n",
      "else:\n",
      "  print \"Unknown response=\",response\n",
      " \n",
      "print \"Done\""
     ],
     "language": "python",
     "metadata": {},
     "outputs": [
      {
       "output_type": "stream",
       "stream": "stdout",
       "text": [
        "Done\n"
       ]
      }
     ],
     "prompt_number": 26
    },
    {
     "cell_type": "code",
     "collapsed": false,
     "input": [
      "direccion=address[0][\"feature_name\"]\n",
      "droide.ttsSpeak(direccion)\n",
      "droide.ttsSpeak(address[0][\"sub_admin_area\"])\n",
      "droide.ttsSpeak(address[0][\"admin_area\"])\n",
      "droide.ttsSpeak(address[0][\"country_name\"])"
     ],
     "language": "python",
     "metadata": {},
     "outputs": [
      {
       "metadata": {},
       "output_type": "pyout",
       "prompt_number": 6,
       "text": [
        "Result(id=15, result=None, error=None)"
       ]
      }
     ],
     "prompt_number": 6
    },
    {
     "cell_type": "code",
     "collapsed": false,
     "input": [],
     "language": "python",
     "metadata": {},
     "outputs": []
    }
   ],
   "metadata": {}
  }
 ]
}