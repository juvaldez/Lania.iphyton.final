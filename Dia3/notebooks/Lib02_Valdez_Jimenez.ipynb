{
 "metadata": {
  "name": "",
  "signature": "sha256:dad87f6511a32fe86c5cd81b8e1c241af3b396120f3e6bd5cbfe5620b40f6630"
 },
 "nbformat": 3,
 "nbformat_minor": 0,
 "worksheets": [
  {
   "cells": [
    {
     "cell_type": "code",
     "collapsed": false,
     "input": [
      "import urllib\n",
      "import json\n",
      "\n",
      "destino = './imagen5.jpg'\n",
      "\n",
      "figshare_id = '1233494'\n",
      "\n",
      "figshare_url = 'http://api.figshare.com/v1/articles/%s' % figshare_id"
     ],
     "language": "python",
     "metadata": {},
     "outputs": [],
     "prompt_number": 35
    },
    {
     "cell_type": "code",
     "collapsed": false,
     "input": [
      "respuesta_json = urllib.urlopen(figshare_url)"
     ],
     "language": "python",
     "metadata": {},
     "outputs": [],
     "prompt_number": 36
    },
    {
     "cell_type": "code",
     "collapsed": false,
     "input": [
      "informacion_articulo = json.load(respuesta_json)"
     ],
     "language": "python",
     "metadata": {},
     "outputs": [],
     "prompt_number": 37
    },
    {
     "cell_type": "code",
     "collapsed": false,
     "input": [
      "informacion_articulo"
     ],
     "language": "python",
     "metadata": {},
     "outputs": [
      {
       "metadata": {},
       "output_type": "pyout",
       "prompt_number": 38,
       "text": [
        "{u'count': 1,\n",
        " u'items': [{u'article_id': 1233494,\n",
        "   u'authors': [{u'first_name': u'Leticia',\n",
        "     u'full_name': u'Leticia Sedas',\n",
        "     u'id': 656749,\n",
        "     u'last_name': u'Sedas'}],\n",
        "   u'categories': [{u'id': 133, u'name': u'Plant Biology'}],\n",
        "   u'defined_type': u'figure',\n",
        "   u'description': u'<p>Foto de una flor encontrada en el lania</p>',\n",
        "   u'description_nohtml': u'Foto de una flor encontrada en el lania',\n",
        "   u'doi': u'http://dx.doi.org/10.6084/m9.figshare.1233494',\n",
        "   u'downloads': 0,\n",
        "   u'figshare_url': u'http://figshare.com/articles/Flor_extra_a/1233494',\n",
        "   u'files': [{u'download_url': u'http://files.figshare.com/1784917/20141108_135712.jpg',\n",
        "     u'id': 1784917,\n",
        "     u'mime_type': u'image/jpeg',\n",
        "     u'name': u'20141108_135712.jpg',\n",
        "     u'size': u'3.45 MB',\n",
        "     u'thumb': u'http://previews.figshare.com/1784917/250_1784917.jpg'}],\n",
        "   u'links': [],\n",
        "   u'master_publisher_id': 0,\n",
        "   u'owner': {u'full_name': u'Leticia Sedas', u'id': 656749},\n",
        "   u'published_date': u'21:17, Nov 08, 2014',\n",
        "   u'publisher_citation': u'',\n",
        "   u'publisher_doi': u'',\n",
        "   u'shares': 0,\n",
        "   u'status': u'Public',\n",
        "   u'tags': [{u'id': 16629, u'name': u'flower'},\n",
        "    {u'id': 321139, u'name': u'lania'}],\n",
        "   u'title': u'Flor extra\\xf1a',\n",
        "   u'total_size': u'3.45 MB',\n",
        "   u'version': 1,\n",
        "   u'views': 2}]}"
       ]
      }
     ],
     "prompt_number": 38
    },
    {
     "cell_type": "code",
     "collapsed": false,
     "input": [
      "img_url_descarga = informacion_articulo['items'][0]['files'][0]['download_url']"
     ],
     "language": "python",
     "metadata": {},
     "outputs": [],
     "prompt_number": 40
    },
    {
     "cell_type": "code",
     "collapsed": false,
     "input": [
      "urllib.urlretrieve(img_url_descarga, destino)"
     ],
     "language": "python",
     "metadata": {},
     "outputs": [
      {
       "metadata": {},
       "output_type": "pyout",
       "prompt_number": 41,
       "text": [
        "('./imagen5.jpg', <httplib.HTTPMessage instance at 0x0000000003A3C708>)"
       ]
      }
     ],
     "prompt_number": 41
    },
    {
     "cell_type": "code",
     "collapsed": false,
     "input": [
      "!dir .\\imagen5.jpg"
     ],
     "language": "python",
     "metadata": {},
     "outputs": [
      {
       "output_type": "stream",
       "stream": "stdout",
       "text": [
        " El volumen de la unidad C es Windows\n",
        " El n\u00a3mero de serie del volumen es: 6022-BD9A\n",
        "\n",
        " Directorio de C:\\Users\\juanis\\Documents\\IPython Notebooks\\lania.ipython\\Dia3\\notebooks\n",
        "\n",
        "08/11/2014  04:12 p. m.         3,615,826 imagen5.jpg\n",
        "               1 archivos      3,615,826 bytes\n",
        "               0 dirs  643,675,226,112 bytes libres\n"
       ]
      }
     ],
     "prompt_number": 42
    },
    {
     "cell_type": "code",
     "collapsed": false,
     "input": [],
     "language": "python",
     "metadata": {},
     "outputs": []
    }
   ],
   "metadata": {}
  }
 ]
}