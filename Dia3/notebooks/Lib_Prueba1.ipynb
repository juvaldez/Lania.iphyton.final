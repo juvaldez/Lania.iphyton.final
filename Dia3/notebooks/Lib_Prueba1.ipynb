{
 "metadata": {
  "name": "",
  "signature": "sha256:b9de889c6d5b308fee3a90f068eab7dafe3896fa84cbb03780e592a06d50be1d"
 },
 "nbformat": 3,
 "nbformat_minor": 0,
 "worksheets": [
  {
   "cells": [
    {
     "cell_type": "code",
     "collapsed": false,
     "input": [
      "print \"Hola Mundo\""
     ],
     "language": "python",
     "metadata": {},
     "outputs": [
      {
       "output_type": "stream",
       "stream": "stdout",
       "text": [
        "Hola Mundo\n"
       ]
      }
     ],
     "prompt_number": 1
    },
    {
     "cell_type": "code",
     "collapsed": false,
     "input": [
      "print \"Esto es una prueba para sincronizar en la nube\""
     ],
     "language": "python",
     "metadata": {},
     "outputs": [
      {
       "output_type": "stream",
       "stream": "stdout",
       "text": [
        "Esto es una prueba para sincronizar en la nube\n"
       ]
      }
     ],
     "prompt_number": 2
    },
    {
     "cell_type": "code",
     "collapsed": false,
     "input": [
      "print \"Probando cambios\""
     ],
     "language": "python",
     "metadata": {},
     "outputs": [
      {
       "output_type": "stream",
       "stream": "stdout",
       "text": [
        "Probando cambios\n"
       ]
      }
     ],
     "prompt_number": 3
    },
    {
     "cell_type": "code",
     "collapsed": false,
     "input": [
      "%%cmd\n",
      "adb"
     ],
     "language": "python",
     "metadata": {},
     "outputs": [
      {
       "output_type": "stream",
       "stream": "stdout",
       "text": [
        "Microsoft Windows [Versi\ufffdn 6.3.9600]\r\n",
        "(c) 2013 Microsoft Corporation. Todos los derechos reservados.\r\n",
        "\r\n",
        "C:\\Users\\juanis\\Documents\\GitHub\\Lania.iphyton.final\\Dia3\\notebooks>adb\n",
        "\r\n",
        "C:\\Users\\juanis\\Documents\\GitHub\\Lania.iphyton.final\\Dia3\\notebooks>"
       ]
      },
      {
       "output_type": "stream",
       "stream": "stderr",
       "text": [
        "Android Debug Bridge version 1.0.31\r\n",
        "\r\n",
        " -a                            - directs adb to listen on all interfaces for a connection\r\n",
        " -d                            - directs command to the only connected USB device\r\n",
        "                                 returns an error if more than one USB device is present.\r\n",
        " -e                            - directs command to the only running emulator.\r\n",
        "                                 returns an error if more than one emulator is running.\r\n",
        " -s <specific device>          - directs command to the device or emulator with the given\r\n",
        "                                 serial number or qualifier. Overrides ANDROID_SERIAL\r\n",
        "                                 environment variable.\r\n",
        " -p <product name or path>     - simple product name like 'sooner', or\r\n",
        "                                 a relative/absolute path to a product\r\n",
        "                                 out directory like 'out/target/product/sooner'.\r\n",
        "                                 If -p is not specified, the ANDROID_PRODUCT_OUT\r\n",
        "                                 environment variable is used, which must\r\n",
        "                                 be an absolute path.\r\n",
        " -H                            - Name of adb server host (default: localhost)\r\n",
        " -P                            - Port of adb server (default: 5037)\r\n",
        " devices [-l]                  - list all connected devices\r\n",
        "                                 ('-l' will also list device qualifiers)\r\n",
        " connect <host>[:<port>]       - connect to a device via TCP/IP\r\n",
        "                                 Port 5555 is used by default if no port number is specified.\r\n",
        " disconnect [<host>[:<port>]]  - disconnect from a TCP/IP device.\r\n",
        "                                 Port 5555 is used by default if no port number is specified.\r\n",
        "                                 Using this command with no additional arguments\r\n",
        "                                 will disconnect from all connected TCP/IP devices.\r\n",
        "\r\n",
        "device commands:\r\n",
        "  adb push [-p] <local> <remote>\r\n",
        "                               - copy file/dir to device\r\n",
        "                                 ('-p' to display the transfer progress)\r\n",
        "  adb pull [-p] [-a] <remote> [<local>]\r\n",
        "                               - copy file/dir from device\r\n",
        "                                 ('-p' to display the transfer progress)\r\n",
        "                                 ('-a' means copy timestamp and mode)\r\n",
        "  adb sync [ <directory> ]     - copy host->device only if changed\r\n",
        "                                 (-l means list but don't copy)\r\n",
        "                                 (see 'adb help all')\r\n",
        "  adb shell                    - run remote shell interactively\r\n",
        "  adb shell <command>          - run remote shell command\r\n",
        "  adb emu <command>            - run emulator console command\r\n",
        "  adb logcat [ <filter-spec> ] - View device log\r\n",
        "  adb forward --list           - list all forward socket connections.\r\n",
        "                                 the format is a list of lines with the following format:\r\n",
        "                                    <serial> \" \" <local> \" \" <remote> \"\\n\"\r\n",
        "  adb forward <local> <remote> - forward socket connections\r\n",
        "                                 forward specs are one of: \r\n",
        "                                   tcp:<port>\r\n",
        "                                   localabstract:<unix domain socket name>\r\n",
        "                                   localreserved:<unix domain socket name>\r\n",
        "                                   localfilesystem:<unix domain socket name>\r\n",
        "                                   dev:<character device name>\r\n",
        "                                   jdwp:<process pid> (remote only)\r\n",
        "  adb forward --no-rebind <local> <remote>\r\n",
        "                               - same as 'adb forward <local> <remote>' but fails\r\n",
        "                                 if <local> is already forwarded\r\n",
        "  adb forward --remove <local> - remove a specific forward socket connection\r\n",
        "  adb forward --remove-all     - remove all forward socket connections\r\n",
        "  adb jdwp                     - list PIDs of processes hosting a JDWP transport\r\n",
        "  adb install [-l] [-r] [-d] [-s] [--algo <algorithm name> --key <hex-encoded key> --iv <hex-encoded iv>] <file>\r\n",
        "                               - push this package file to the device and install it\r\n",
        "                                 ('-l' means forward-lock the app)\r\n",
        "                                 ('-r' means reinstall the app, keeping its data)\r\n",
        "                                 ('-d' means allow version code downgrade)\r\n",
        "                                 ('-s' means install on SD card instead of internal storage)\r\n",
        "                                 ('--algo', '--key', and '--iv' mean the file is encrypted already)\r\n",
        "  adb uninstall [-k] <package> - remove this app package from the device\r\n",
        "                                 ('-k' means keep the data and cache directories)\r\n",
        "  adb bugreport                - return all information from the device\r\n",
        "                                 that should be included in a bug report.\r\n",
        "\r\n",
        "  adb backup [-f <file>] [-apk|-noapk] [-obb|-noobb] [-shared|-noshared] [-all] [-system|-nosystem] [<packages...>]\r\n",
        "                               - write an archive of the device's data to <file>.\r\n",
        "                                 If no -f option is supplied then the data is written\r\n",
        "                                 to \"backup.ab\" in the current directory.\r\n",
        "                                 (-apk|-noapk enable/disable backup of the .apks themselves\r\n",
        "                                    in the archive; the default is noapk.)\r\n",
        "                                 (-obb|-noobb enable/disable backup of any installed apk expansion\r\n",
        "                                    (aka .obb) files associated with each application; the default\r\n",
        "                                    is noobb.)\r\n",
        "                                 (-shared|-noshared enable/disable backup of the device's\r\n",
        "                                    shared storage / SD card contents; the default is noshared.)\r\n",
        "                                 (-all means to back up all installed applications)\r\n",
        "                                 (-system|-nosystem toggles whether -all automatically includes\r\n",
        "                                    system applications; the default is to include system apps)\r\n",
        "                                 (<packages...> is the list of applications to be backed up.  If\r\n",
        "                                    the -all or -shared flags are passed, then the package\r\n",
        "                                    list is optional.  Applications explicitly given on the\r\n",
        "                                    command line will be included even if -nosystem would\r\n",
        "                                    ordinarily cause them to be omitted.)\r\n",
        "\r\n",
        "  adb restore <file>           - restore device contents from the <file> backup archive\r\n",
        "\r\n",
        "  adb help                     - show this help message\r\n",
        "  adb version                  - show version num\r\n",
        "\r\n",
        "scripting:\r\n",
        "  adb wait-for-device          - block until device is online\r\n",
        "  adb start-server             - ensure that there is a server running\r\n",
        "  adb kill-server              - kill the server if it is running\r\n",
        "  adb get-state                - prints: offline | bootloader | device\r\n",
        "  adb get-serialno             - prints: <serial-number>\r\n",
        "  adb get-devpath              - prints: <device-path>\r\n",
        "  adb status-window            - continuously print device status for a specified device\r\n",
        "  adb remount                  - remounts the /system partition on the device read-write\r\n",
        "  adb reboot [bootloader|recovery] - reboots the device, optionally into the bootloader or recovery program\r\n",
        "  adb reboot-bootloader        - reboots the device into the bootloader\r\n",
        "  adb root                     - restarts the adbd daemon with root permissions\r\n",
        "  adb usb                      - restarts the adbd daemon listening on USB\r\n",
        "  adb tcpip <port>             - restarts the adbd daemon listening on TCP on the specified port\r\n",
        "networking:\r\n",
        "  adb ppp <tty> [parameters]   - Run PPP over USB.\r\n",
        " Note: you should not automatically start a PPP connection.\r\n",
        " <tty> refers to the tty for PPP stream. Eg. dev:/dev/omap_csmi_tty1\r\n",
        " [parameters] - Eg. defaultroute debug dump local notty usepeerdns\r\n",
        "\r\n",
        "adb sync notes: adb sync [ <directory> ]\r\n",
        "  <localdir> can be interpreted in several ways:\r\n",
        "\r\n",
        "  - If <directory> is not specified, both /system and /data partitions will be updated.\r\n",
        "\r\n",
        "  - If it is \"system\" or \"data\", only the corresponding partition\r\n",
        "    is updated.\r\n",
        "\r\n",
        "environmental variables:\r\n",
        "  ADB_TRACE                    - Print debug information. A comma separated list of the following values\r\n",
        "                                 1 or all, adb, sockets, packets, rwx, usb, sync, sysdeps, transport, jdwp\r\n",
        "  ANDROID_SERIAL               - The serial number to connect to. -s takes priority over this if given.\r\n",
        "  ANDROID_LOG_TAGS             - When used with the logcat option, only these debug tags are printed.\r\n"
       ]
      }
     ],
     "prompt_number": 1
    },
    {
     "cell_type": "code",
     "collapsed": false,
     "input": [
      "%%cmd\n",
      "adb forward tcp:9999 tcp:47850"
     ],
     "language": "python",
     "metadata": {},
     "outputs": [
      {
       "output_type": "stream",
       "stream": "stdout",
       "text": [
        "Microsoft Windows [Versi\ufffdn 6.3.9600]\r\n",
        "(c) 2013 Microsoft Corporation. Todos los derechos reservados.\r\n",
        "\r\n",
        "C:\\Users\\juanis\\Documents\\GitHub\\Lania.iphyton.final\\Dia3\\notebooks>adb forward tcp:9999 tcp:47850\n",
        "* daemon not running. starting it now on port 5037 *\r\n",
        "* daemon started successfully *\r\n",
        "\r\n",
        "C:\\Users\\juanis\\Documents\\GitHub\\Lania.iphyton.final\\Dia3\\notebooks>"
       ]
      }
     ],
     "prompt_number": 2
    },
    {
     "cell_type": "code",
     "collapsed": false,
     "input": [
      "%%cmd\n",
      "adb devices"
     ],
     "language": "python",
     "metadata": {},
     "outputs": [
      {
       "output_type": "stream",
       "stream": "stdout",
       "text": [
        "Microsoft Windows [Versi\ufffdn 6.3.9600]\r\n",
        "(c) 2013 Microsoft Corporation. Todos los derechos reservados.\r\n",
        "\r\n",
        "C:\\Users\\juanis\\Documents\\GitHub\\Lania.iphyton.final\\Dia3\\notebooks>adb devices\n",
        "List of devices attached \r\n",
        "0123456789ABCDEF\tdevice\r\n",
        "\r\n",
        "\r\n",
        "C:\\Users\\juanis\\Documents\\GitHub\\Lania.iphyton.final\\Dia3\\notebooks>"
       ]
      }
     ],
     "prompt_number": 4
    },
    {
     "cell_type": "code",
     "collapsed": false,
     "input": [
      "import android"
     ],
     "language": "python",
     "metadata": {},
     "outputs": [],
     "prompt_number": 5
    },
    {
     "cell_type": "code",
     "collapsed": false,
     "input": [
      "droide = android.Android()"
     ],
     "language": "python",
     "metadata": {},
     "outputs": [],
     "prompt_number": 6
    },
    {
     "cell_type": "code",
     "collapsed": false,
     "input": [
      "droide.ttsSpeak(\"Ney no sea codiche\")"
     ],
     "language": "python",
     "metadata": {},
     "outputs": [
      {
       "metadata": {},
       "output_type": "pyout",
       "prompt_number": 11,
       "text": [
        "Result(id=4, result=None, error=None)"
       ]
      }
     ],
     "prompt_number": 11
    },
    {
     "cell_type": "code",
     "collapsed": false,
     "input": [
      "mensaje = droide.dialogGetInput('TTS', 'Escriban el mensaje que quieren que repita').result"
     ],
     "language": "python",
     "metadata": {},
     "outputs": [],
     "prompt_number": 30
    },
    {
     "cell_type": "code",
     "collapsed": false,
     "input": [
      "mensaje"
     ],
     "language": "python",
     "metadata": {},
     "outputs": [
      {
       "metadata": {},
       "output_type": "pyout",
       "prompt_number": 31,
       "text": [
        "u'holaaa floid'"
       ]
      }
     ],
     "prompt_number": 31
    },
    {
     "cell_type": "code",
     "collapsed": false,
     "input": [
      "droide.makeToast('hola')"
     ],
     "language": "python",
     "metadata": {},
     "outputs": [
      {
       "metadata": {},
       "output_type": "pyout",
       "prompt_number": 24,
       "text": [
        "Result(id=15, result=None, error=None)"
       ]
      }
     ],
     "prompt_number": 24
    },
    {
     "cell_type": "code",
     "collapsed": false,
     "input": [
      "droide.ttsSpeak(mensaje)"
     ],
     "language": "python",
     "metadata": {},
     "outputs": [
      {
       "metadata": {},
       "output_type": "pyout",
       "prompt_number": 33,
       "text": [
        "Result(id=22, result=None, error=None)"
       ]
      }
     ],
     "prompt_number": 33
    },
    {
     "cell_type": "code",
     "collapsed": false,
     "input": [
      "print droide.getClipboard().result"
     ],
     "language": "python",
     "metadata": {},
     "outputs": [
      {
       "output_type": "stream",
       "stream": "stdout",
       "text": [
        "http://www.uv.mx/\n"
       ]
      }
     ],
     "prompt_number": 41
    },
    {
     "cell_type": "code",
     "collapsed": false,
     "input": [
      "previous = droide.getClipboard().result"
     ],
     "language": "python",
     "metadata": {},
     "outputs": [],
     "prompt_number": 42
    },
    {
     "cell_type": "code",
     "collapsed": false,
     "input": [
      "msg='www.google.com'"
     ],
     "language": "python",
     "metadata": {},
     "outputs": [],
     "prompt_number": 43
    },
    {
     "cell_type": "code",
     "collapsed": false,
     "input": [
      "droide.setClipboard(msg)"
     ],
     "language": "python",
     "metadata": {},
     "outputs": [
      {
       "metadata": {},
       "output_type": "pyout",
       "prompt_number": 44,
       "text": [
        "Result(id=30, result=None, error=None)"
       ]
      }
     ],
     "prompt_number": 44
    },
    {
     "cell_type": "code",
     "collapsed": false,
     "input": [
      "echo = droide.getClipboard().result"
     ],
     "language": "python",
     "metadata": {},
     "outputs": [],
     "prompt_number": 45
    },
    {
     "cell_type": "code",
     "collapsed": false,
     "input": [
      "droide.getClipboard(previous)"
     ],
     "language": "python",
     "metadata": {},
     "outputs": [
      {
       "output_type": "stream",
       "stream": "stdout",
       "text": [
        "com.googlecode.android_scripting.rpc.RpcError: Too many parameters specified.\n"
       ]
      },
      {
       "metadata": {},
       "output_type": "pyout",
       "prompt_number": 47,
       "text": [
        "Result(id=32, result=None, error=u'com.googlecode.android_scripting.rpc.RpcError: Too many parameters specified.')"
       ]
      }
     ],
     "prompt_number": 47
    },
    {
     "cell_type": "code",
     "collapsed": false,
     "input": [],
     "language": "python",
     "metadata": {},
     "outputs": []
    }
   ],
   "metadata": {}
  }
 ]
}