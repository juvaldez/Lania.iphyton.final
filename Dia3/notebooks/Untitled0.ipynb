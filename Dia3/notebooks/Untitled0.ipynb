{
 "metadata": {
  "name": "",
  "signature": "sha256:5c642ee3669efd7b77ad128b05ef04e4ca6809ce68a7d794e865b701d1bba99e"
 },
 "nbformat": 3,
 "nbformat_minor": 0,
 "worksheets": [
  {
   "cells": [
    {
     "cell_type": "code",
     "collapsed": false,
     "input": [
      "!dir"
     ],
     "language": "python",
     "metadata": {},
     "outputs": [
      {
       "output_type": "stream",
       "stream": "stdout",
       "text": [
        " El volumen de la unidad C es Windows\n",
        " El n\u00a3mero de serie del volumen es: 6022-BD9A\n",
        "\n",
        " Directorio de C:\\Users\\juanis\\Documents\\GitHub\\Lania.iphyton.final\\Dia3\\notebooks\n",
        "\n",
        "15/11/2014  11:56 a. m.    <DIR>          .\n",
        "15/11/2014  11:56 a. m.    <DIR>          ..\n",
        "15/11/2014  11:56 a. m.    <DIR>          .ipynb_checkpoints\n",
        "01/11/2014  11:34 a. m.            10,471 01_Adquiriendo_Datos_imagenes.ipynb\n",
        "08/11/2014  04:21 p. m.            18,412 02_Distribuyendo_Datos_imagenes.ipynb\n",
        "01/11/2014  11:34 a. m.         1,468,497 03_Procesando_Datos_imagenes.ipynb\n",
        "08/11/2014  04:23 p. m.           256,879 04_Adquiriendo_Datos_GPS.ipynb\n",
        "01/11/2014  11:34 a. m.            98,504 05_Adquiriendo_Datos_Accel-Copy0.ipynb\n",
        "01/11/2014  11:34 a. m.            59,756 05_Adquiriendo_Datos_Accel.ipynb\n",
        "15/11/2014  11:51 a. m.             1,766 android.py\n",
        "15/11/2014  11:56 a. m.             1,821 android.pyc\n",
        "08/11/2014  03:37 p. m.           419,491 imagen.jpg\n",
        "08/11/2014  04:08 p. m.         1,252,025 imagen2.jpg\n",
        "08/11/2014  04:10 p. m.         1,018,530 imagen3.jpg\n",
        "08/11/2014  04:11 p. m.         1,989,143 imagen4.jpg\n",
        "08/11/2014  04:12 p. m.         3,615,826 imagen5.jpg\n",
        "08/11/2014  04:21 p. m.             4,973 Lib02_Valdez_Jimenez.ipynb\n",
        "15/11/2014  12:22 a. m.           197,331 Lib04_Valdez_Jimenez.ipynb\n",
        "15/11/2014  10:15 a. m.             1,557 Lib_Prueba1.ipynb\n",
        "01/11/2014  11:34 a. m.            37,646 Sensor_record_20141024_124129_AndroSensor.csv\n",
        "15/11/2014  11:58 a. m.               739 Untitled0.ipynb\n",
        "              18 archivos     10,453,367 bytes\n",
        "               3 dirs  640,316,284,928 bytes libres\n"
       ]
      }
     ],
     "prompt_number": 3
    },
    {
     "cell_type": "code",
     "collapsed": false,
     "input": [
      "import android"
     ],
     "language": "python",
     "metadata": {},
     "outputs": [],
     "prompt_number": 4
    },
    {
     "cell_type": "code",
     "collapsed": false,
     "input": [
      "!adb"
     ],
     "language": "python",
     "metadata": {},
     "outputs": [
      {
       "output_type": "stream",
       "stream": "stderr",
       "text": [
        "\"adb\" no se reconoce como un comando interno o externo,\n",
        "programa o archivo por lotes ejecutable.\n"
       ]
      }
     ],
     "prompt_number": 5
    },
    {
     "cell_type": "code",
     "collapsed": false,
     "input": [],
     "language": "python",
     "metadata": {},
     "outputs": []
    }
   ],
   "metadata": {}
  }
 ]
}