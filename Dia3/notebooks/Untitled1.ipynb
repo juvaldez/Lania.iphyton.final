{
 "metadata": {
  "name": "",
  "signature": "sha256:b99d68878e029420d9e7b025cb41dc9b3556b0db14f5883bc699217c77a51ad7"
 },
 "nbformat": 3,
 "nbformat_minor": 0,
 "worksheets": [
  {
   "cells": [
    {
     "cell_type": "code",
     "collapsed": false,
     "input": [
      "import android"
     ],
     "language": "python",
     "metadata": {},
     "outputs": [],
     "prompt_number": 4
    },
    {
     "cell_type": "code",
     "collapsed": false,
     "input": [
      "droide = android.Android()"
     ],
     "language": "python",
     "metadata": {},
     "outputs": [],
     "prompt_number": 5
    },
    {
     "cell_type": "code",
     "collapsed": false,
     "input": [
      "droide.startSensingTimed(1, 100)"
     ],
     "language": "python",
     "metadata": {},
     "outputs": [
      {
       "metadata": {},
       "output_type": "pyout",
       "prompt_number": 7,
       "text": [
        "Result(id=0, result=None, error=None)"
       ]
      }
     ],
     "prompt_number": 7
    },
    {
     "cell_type": "code",
     "collapsed": false,
     "input": [
      "for i in range(10):\n",
      "    e= droide.eventPoll(1)\n",
      "    if e.result is not None:\n",
      "        print True\n",
      "    else:\n",
      "        time.sleep(2)\n",
      "        print False\n",
      "\n"
     ],
     "language": "python",
     "metadata": {},
     "outputs": [
      {
       "output_type": "stream",
       "stream": "stdout",
       "text": [
        "True\n",
        "True\n",
        "True\n",
        "True"
       ]
      },
      {
       "output_type": "stream",
       "stream": "stdout",
       "text": [
        "\n",
        "True\n",
        "True\n",
        "True\n",
        "True"
       ]
      },
      {
       "output_type": "stream",
       "stream": "stdout",
       "text": [
        "\n",
        "True\n",
        "True\n"
       ]
      }
     ],
     "prompt_number": 8
    },
    {
     "cell_type": "code",
     "collapsed": false,
     "input": [
      "droide.stopSensing()"
     ],
     "language": "python",
     "metadata": {},
     "outputs": [
      {
       "metadata": {},
       "output_type": "pyout",
       "prompt_number": 9,
       "text": [
        "Result(id=11, result=None, error=None)"
       ]
      }
     ],
     "prompt_number": 9
    },
    {
     "cell_type": "code",
     "collapsed": false,
     "input": [
      "droide.startLocating()"
     ],
     "language": "python",
     "metadata": {},
     "outputs": [
      {
       "metadata": {},
       "output_type": "pyout",
       "prompt_number": 10,
       "text": [
        "Result(id=12, result=None, error=None)"
       ]
      }
     ],
     "prompt_number": 10
    },
    {
     "cell_type": "code",
     "collapsed": false,
     "input": [
      "import time\n",
      "for i in range(10):\n",
      "    e= droide.eventPoll(1)\n",
      "    if e.result is not None:\n",
      "        print True\n",
      "    else:\n",
      "        time.sleep(2)\n",
      "        print False"
     ],
     "language": "python",
     "metadata": {},
     "outputs": [
      {
       "output_type": "stream",
       "stream": "stdout",
       "text": [
        "True\n",
        "True\n",
        "True\n",
        "True"
       ]
      },
      {
       "output_type": "stream",
       "stream": "stdout",
       "text": [
        "\n",
        "True\n",
        "True\n",
        "True"
       ]
      },
      {
       "output_type": "stream",
       "stream": "stdout",
       "text": [
        "\n",
        "True\n",
        "True\n",
        "True\n"
       ]
      }
     ],
     "prompt_number": 11
    },
    {
     "cell_type": "code",
     "collapsed": false,
     "input": [
      "droide.stopSensing()"
     ],
     "language": "python",
     "metadata": {},
     "outputs": [
      {
       "metadata": {},
       "output_type": "pyout",
       "prompt_number": 12,
       "text": [
        "Result(id=23, result=None, error=None)"
       ]
      }
     ],
     "prompt_number": 12
    },
    {
     "cell_type": "code",
     "collapsed": false,
     "input": [
      "result=droide.getLastKnownLocation()\n",
      "result"
     ],
     "language": "python",
     "metadata": {},
     "outputs": [
      {
       "metadata": {},
       "output_type": "pyout",
       "prompt_number": 13,
       "text": [
        "Result(id=24, result={u'passive': {u'bearing': 0, u'altitude': 0, u'time': 1416085546040L, u'longitude': -96.9157135, u'provider': u'network', u'latitude': 19.5201627, u'speed': 0, u'accuracy': 30}, u'network': {u'bearing': 0, u'altitude': 0, u'time': 1416085546040L, u'longitude': -96.9157135, u'provider': u'network', u'latitude': 19.5201627, u'speed': 0, u'accuracy': 30}, u'gps': None}, error=None)"
       ]
      }
     ],
     "prompt_number": 13
    },
    {
     "cell_type": "code",
     "collapsed": false,
     "input": [
      "result.result"
     ],
     "language": "python",
     "metadata": {},
     "outputs": [
      {
       "metadata": {},
       "output_type": "pyout",
       "prompt_number": 14,
       "text": [
        "{u'gps': None,\n",
        " u'network': {u'accuracy': 30,\n",
        "  u'altitude': 0,\n",
        "  u'bearing': 0,\n",
        "  u'latitude': 19.5201627,\n",
        "  u'longitude': -96.9157135,\n",
        "  u'provider': u'network',\n",
        "  u'speed': 0,\n",
        "  u'time': 1416085546040L},\n",
        " u'passive': {u'accuracy': 30,\n",
        "  u'altitude': 0,\n",
        "  u'bearing': 0,\n",
        "  u'latitude': 19.5201627,\n",
        "  u'longitude': -96.9157135,\n",
        "  u'provider': u'network',\n",
        "  u'speed': 0,\n",
        "  u'time': 1416085546040L}}"
       ]
      }
     ],
     "prompt_number": 14
    },
    {
     "cell_type": "code",
     "collapsed": false,
     "input": [
      "droide.geocode(0.0,0.0,1)"
     ],
     "language": "python",
     "metadata": {},
     "outputs": []
    },
    {
     "cell_type": "code",
     "collapsed": false,
     "input": [
      "droide.startTrackingPhoneState()"
     ],
     "language": "python",
     "metadata": {},
     "outputs": [
      {
       "metadata": {},
       "output_type": "pyout",
       "prompt_number": 15,
       "text": [
        "Result(id=25, result=None, error=None)"
       ]
      }
     ],
     "prompt_number": 15
    },
    {
     "cell_type": "code",
     "collapsed": false,
     "input": [
      "for i in range(10):\n",
      "    e= droide.eventPoll(1)\n",
      "    if e.result is not None:\n",
      "        print True\n",
      "    else:\n",
      "        time.sleep(2)\n",
      "        print False"
     ],
     "language": "python",
     "metadata": {},
     "outputs": [
      {
       "output_type": "stream",
       "stream": "stdout",
       "text": [
        "True\n",
        "True\n",
        "True\n",
        "True\n",
        "True\n",
        "True\n",
        "True"
       ]
      },
      {
       "output_type": "stream",
       "stream": "stdout",
       "text": [
        "\n",
        "True\n",
        "True\n",
        "True\n"
       ]
      }
     ],
     "prompt_number": 16
    },
    {
     "cell_type": "code",
     "collapsed": false,
     "input": [
      "droide.stopTrackingPhoneState()"
     ],
     "language": "python",
     "metadata": {},
     "outputs": [
      {
       "metadata": {},
       "output_type": "pyout",
       "prompt_number": 22,
       "text": [
        "Result(id=41, result=None, error=None)"
       ]
      }
     ],
     "prompt_number": 22
    },
    {
     "cell_type": "code",
     "collapsed": false,
     "input": [
      "droide.toggleWifiState()"
     ],
     "language": "python",
     "metadata": {},
     "outputs": [
      {
       "metadata": {},
       "output_type": "pyout",
       "prompt_number": 18,
       "text": [
        "Result(id=37, result=False, error=None)"
       ]
      }
     ],
     "prompt_number": 18
    },
    {
     "cell_type": "code",
     "collapsed": false,
     "input": [
      "droide.toggleWifiState()"
     ],
     "language": "python",
     "metadata": {},
     "outputs": [
      {
       "metadata": {},
       "output_type": "pyout",
       "prompt_number": 20,
       "text": [
        "Result(id=39, result=True, error=None)"
       ]
      }
     ],
     "prompt_number": 20
    },
    {
     "cell_type": "code",
     "collapsed": false,
     "input": [
      "if droide.toggleWifiState().result is True:\n",
      "    droide.ttsSpeak(\"Despierten!\")"
     ],
     "language": "python",
     "metadata": {},
     "outputs": [],
     "prompt_number": 25
    },
    {
     "cell_type": "code",
     "collapsed": false,
     "input": [
      "dt = 100"
     ],
     "language": "python",
     "metadata": {},
     "outputs": [],
     "prompt_number": 26
    },
    {
     "cell_type": "code",
     "collapsed": false,
     "input": [
      "final = 3000"
     ],
     "language": "python",
     "metadata": {},
     "outputs": [],
     "prompt_number": 31
    },
    {
     "cell_type": "code",
     "collapsed": false,
     "input": [],
     "language": "python",
     "metadata": {},
     "outputs": [
      {
       "metadata": {},
       "output_type": "pyout",
       "prompt_number": 28,
       "text": [
        "Result(id=45, result=None, error=None)"
       ]
      }
     ],
     "prompt_number": 28
    },
    {
     "cell_type": "code",
     "collapsed": false,
     "input": [
      "import time"
     ],
     "language": "python",
     "metadata": {},
     "outputs": [],
     "prompt_number": 33
    },
    {
     "cell_type": "code",
     "collapsed": false,
     "input": [
      "tiempo=0\n",
      "droide.startSensingTimed(2,dt)\n",
      "while tiempo <= final:\n",
      "    print droide.sensorsReadAccelerometer().result\n",
      "    time.sleep(dt/1000.0)\n",
      "    tiempo += dt\n",
      "droide.stopSensing()"
     ],
     "language": "python",
     "metadata": {},
     "outputs": [
      {
       "output_type": "stream",
       "stream": "stdout",
       "text": [
        "[0.153227, 7.201669, 7.508123]\n",
        "[0, 7.201669, 7.508123]"
       ]
      },
      {
       "output_type": "stream",
       "stream": "stdout",
       "text": [
        "\n",
        "[0, 7.201669, 7.508123]"
       ]
      },
      {
       "output_type": "stream",
       "stream": "stdout",
       "text": [
        "\n",
        "[0, 7.201669, 7.508123]"
       ]
      },
      {
       "output_type": "stream",
       "stream": "stdout",
       "text": [
        "\n",
        "[0, 7.354896, 7.508123]"
       ]
      },
      {
       "output_type": "stream",
       "stream": "stdout",
       "text": [
        "\n",
        "[0, 7.201669, 7.508123]"
       ]
      },
      {
       "output_type": "stream",
       "stream": "stdout",
       "text": [
        "\n",
        "[0, 7.201669, 7.508123]"
       ]
      },
      {
       "output_type": "stream",
       "stream": "stdout",
       "text": [
        "\n",
        "[0.766135, 8.887166, 9.653301]"
       ]
      },
      {
       "output_type": "stream",
       "stream": "stdout",
       "text": [
        "\n",
        "[-2.451632, 3.06454, 7.967804]"
       ]
      },
      {
       "output_type": "stream",
       "stream": "stdout",
       "text": [
        "\n",
        "[0.766135, 6.12908, 1.838724]"
       ]
      },
      {
       "output_type": "stream",
       "stream": "stdout",
       "text": [
        "\n",
        "[-7.814577, 6.282307, 3.983902]"
       ]
      },
      {
       "output_type": "stream",
       "stream": "stdout",
       "text": [
        "\n",
        "[1.838724, 8.427485, 8.121031]"
       ]
      },
      {
       "output_type": "stream",
       "stream": "stdout",
       "text": [
        "\n",
        "[-11.645252, 3.983902, 3.677448]"
       ]
      },
      {
       "output_type": "stream",
       "stream": "stdout",
       "text": [
        "\n",
        "[-0.766135, 4.59681, 11.032344]"
       ]
      },
      {
       "output_type": "stream",
       "stream": "stdout",
       "text": [
        "\n",
        "[-3.830675, 1.991951, 8.887166]"
       ]
      },
      {
       "output_type": "stream",
       "stream": "stdout",
       "text": [
        "\n",
        "[-14.250111, -0.766135, 11.492025]"
       ]
      },
      {
       "output_type": "stream",
       "stream": "stdout",
       "text": [
        "\n",
        "[4.290356, 6.588761, 6.895215]"
       ]
      },
      {
       "output_type": "stream",
       "stream": "stdout",
       "text": [
        "\n",
        "[-8.733939, 0, 9.653301]"
       ]
      },
      {
       "output_type": "stream",
       "stream": "stdout",
       "text": [
        "\n",
        "[-9.806528, -0.919362, 9.19362]"
       ]
      },
      {
       "output_type": "stream",
       "stream": "stdout",
       "text": [
        "\n",
        "[2.451632, 6.895215, 4.59681]"
       ]
      },
      {
       "output_type": "stream",
       "stream": "stdout",
       "text": [
        "\n",
        "[0, 3.830675, 11.492025]"
       ]
      },
      {
       "output_type": "stream",
       "stream": "stdout",
       "text": [
        "\n",
        "[-6.895215, -0.306454, 8.733939]"
       ]
      },
      {
       "output_type": "stream",
       "stream": "stdout",
       "text": [
        "\n",
        "[0.153227, 6.435534, 7.048442]"
       ]
      },
      {
       "output_type": "stream",
       "stream": "stdout",
       "text": [
        "\n",
        "[-2.911313, 5.209718, 6.435534]"
       ]
      },
      {
       "output_type": "stream",
       "stream": "stdout",
       "text": [
        "\n",
        "[-0.153227, 3.677448, 10.879117]"
       ]
      },
      {
       "output_type": "stream",
       "stream": "stdout",
       "text": [
        "\n",
        "[-3.677448, 3.677448, 9.653301]"
       ]
      },
      {
       "output_type": "stream",
       "stream": "stdout",
       "text": [
        "\n",
        "[-0.306454, 7.814577, 5.975853]"
       ]
      },
      {
       "output_type": "stream",
       "stream": "stdout",
       "text": [
        "\n",
        "[-1.072589, 5.822626, 12.871068]"
       ]
      },
      {
       "output_type": "stream",
       "stream": "stdout",
       "text": [
        "\n",
        "[-0.919362, 5.362945, 9.346847]"
       ]
      },
      {
       "output_type": "stream",
       "stream": "stdout",
       "text": [
        "\n",
        "[-1.225816, 6.282307, 9.346847]"
       ]
      },
      {
       "output_type": "stream",
       "stream": "stdout",
       "text": [
        "\n",
        "[-0.459681, 6.741988, 8.427485]"
       ]
      },
      {
       "output_type": "stream",
       "stream": "stdout",
       "text": [
        "\n"
       ]
      },
      {
       "metadata": {},
       "output_type": "pyout",
       "prompt_number": 35,
       "text": [
        "Result(id=142, result=None, error=None)"
       ]
      }
     ],
     "prompt_number": 35
    },
    {
     "cell_type": "code",
     "collapsed": false,
     "input": [
      "mensaje = droide.dialogGetInput(\"hola\", \"Deseas tomar la altura\")"
     ],
     "language": "python",
     "metadata": {},
     "outputs": []
    },
    {
     "cell_type": "code",
     "collapsed": false,
     "input": [
      "if name.result is not -1:\n",
      "    #activa\n",
      "    #sensor\n",
      "    droide.ttsSpeak(\"Ahora comienza a caminar\")"
     ],
     "language": "python",
     "metadata": {},
     "outputs": [],
     "prompt_number": 38
    },
    {
     "cell_type": "code",
     "collapsed": false,
     "input": [
      "import time"
     ],
     "language": "python",
     "metadata": {},
     "outputs": [],
     "prompt_number": 6
    },
    {
     "cell_type": "code",
     "collapsed": false,
     "input": [
      "droide.dialogCreateAlert(\"I like swords.\",\"Do you like swords?\")\n",
      "droide.dialogSetPositiveButtonText(\"Yes\")\n",
      "droide.dialogSetNegativeButtonText(\"No\")\n",
      "#droide.dialogSetNeutralButtonText(\"Aceptar\")\n",
      "droide.dialogShow()\n",
      "response=droide.dialogGetResponse().result\n",
      "droide.dialogDismiss()\n",
      "if response.has_key(\"which\"):\n",
      "  result=response[\"which\"]\n",
      "  if result==\"positive\":\n",
      "    droide.ttsSpeak(\"Activando GPS\")\n",
      "    droide.startLocating()                \n",
      "    time.sleep(15)\n",
      "    loc = droide.readLocation().result\n",
      "    if loc == {}:\n",
      "      loc = getLastKnownLocation().result\n",
      "    if loc != {}:\n",
      "      try:\n",
      "        n = loc['gps']\n",
      "      except KeyError:\n",
      "        n = loc['network'] \n",
      "      la = n['latitude'] \n",
      "      lo = n['longitude']\n",
      "      address = droide.geocode(la, lo).result\n",
      "    droide.stopLocating()    \n",
      "    droide.ttsSpeak(\"Desactivando GPS\")\n",
      "    \n",
      "  elif result==\"negative\":\n",
      "    droide.ttsSpeak(\"Finalizando aplicaci\u00f3n\")\n",
      "elif response.has_key(\"canceled\"): # Yes, I know it's mispelled.\n",
      "  print \"You can't even make up your mind?\"\n",
      "else:\n",
      "  print \"Unknown response=\",response\n",
      " \n",
      "print \"Done\""
     ],
     "language": "python",
     "metadata": {},
     "outputs": [
      {
       "output_type": "stream",
       "stream": "stdout",
       "text": [
        "Done\n"
       ]
      }
     ],
     "prompt_number": 7
    },
    {
     "cell_type": "code",
     "collapsed": false,
     "input": [
      "address"
     ],
     "language": "python",
     "metadata": {},
     "outputs": [
      {
       "metadata": {},
       "output_type": "pyout",
       "prompt_number": 74,
       "text": [
        "[{u'admin_area': u'Veracruz',\n",
        "  u'country_code': u'MX',\n",
        "  u'country_name': u'M\\xe9xico',\n",
        "  u'feature_name': u'Universitario Gonzalo Aguirre Beltr\\xe1n',\n",
        "  u'sub_admin_area': u'Xalapa Enr\\xedquez',\n",
        "  u'thoroughfare': u'Universitario Gonzalo Aguirre Beltr\\xe1n'}]"
       ]
      }
     ],
     "prompt_number": 74
    },
    {
     "cell_type": "code",
     "collapsed": false,
     "input": [
      "direccion=address[0][\"feature_name\"]\n",
      "droide.ttsSpeak(direccion)\n",
      "droide.ttsSpeak(address[0][\"sub_admin_area\"])\n",
      "droide.ttsSpeak(address[0][\"admin_area\"])\n",
      "droide.ttsSpeak(address[0][\"country_name\"])\n",
      "#direccion= direccion.replace('Aguirre','a')\n",
      "#direccion =print direccion"
     ],
     "language": "python",
     "metadata": {},
     "outputs": [
      {
       "metadata": {},
       "output_type": "pyout",
       "prompt_number": 95,
       "text": [
        "Result(id=21, result=None, error=None)"
       ]
      }
     ],
     "prompt_number": 95
    },
    {
     "cell_type": "code",
     "collapsed": false,
     "input": [
      "resultado=droide.getLastKnownLocation()\n",
      "resultado"
     ],
     "language": "python",
     "metadata": {},
     "outputs": [
      {
       "metadata": {},
       "output_type": "pyout",
       "prompt_number": 92,
       "text": [
        "Result(id=14, result={u'passive': {u'bearing': 0, u'altitude': 0, u'time': 1416584502739L, u'longitude': -96.919855, u'provider': u'network', u'latitude': 19.5188202, u'speed': 0, u'accuracy': 36}, u'network': {u'bearing': 0, u'altitude': 0, u'time': 1416584502739L, u'longitude': -96.919855, u'provider': u'network', u'latitude': 19.5188202, u'speed': 0, u'accuracy': 36}, u'gps': None}, error=None)"
       ]
      }
     ],
     "prompt_number": 92
    },
    {
     "cell_type": "code",
     "collapsed": false,
     "input": [
      "resultado.result"
     ],
     "language": "python",
     "metadata": {},
     "outputs": [
      {
       "metadata": {},
       "output_type": "pyout",
       "prompt_number": 22,
       "text": [
        "{u'gps': None,\n",
        " u'network': {u'accuracy': 30,\n",
        "  u'altitude': 0,\n",
        "  u'bearing': 0,\n",
        "  u'latitude': 19.5201627,\n",
        "  u'longitude': -96.9157135,\n",
        "  u'provider': u'network',\n",
        "  u'speed': 0,\n",
        "  u'time': 1416094093397L},\n",
        " u'passive': {u'accuracy': 30,\n",
        "  u'altitude': 0,\n",
        "  u'bearing': 0,\n",
        "  u'latitude': 19.5201627,\n",
        "  u'longitude': -96.9157135,\n",
        "  u'provider': u'network',\n",
        "  u'speed': 0,\n",
        "  u'time': 1416094093397L}}"
       ]
      }
     ],
     "prompt_number": 22
    },
    {
     "cell_type": "code",
     "collapsed": false,
     "input": [
      "droide.startLocating()\n",
      "time.sleep(15)\n",
      "loc = droide.readLocation().result\n",
      "if loc = {}:\n",
      "  loc = getLastKnownLocation().result\n",
      "if loc != {}:\n",
      "  try:\n",
      "    n = loc['gps']\n",
      "  except KeyError:\n",
      "    n = loc['network'] \n",
      "  la = n['latitude'] \n",
      "  lo = n['longitude']\n",
      "  address = droide.geocode(la, lo).result\n",
      "droide.stopLocating()"
     ],
     "language": "python",
     "metadata": {},
     "outputs": []
    }
   ],
   "metadata": {}
  }
 ]
}