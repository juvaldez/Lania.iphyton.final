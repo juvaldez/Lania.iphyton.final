{
 "metadata": {
  "name": "",
  "signature": "sha256:4841461eb714f4140753a6ad0e5b1791b229a06fdfac4b6cc025d635795a13af"
 },
 "nbformat": 3,
 "nbformat_minor": 0,
 "worksheets": [
  {
   "cells": [
    {
     "cell_type": "code",
     "collapsed": false,
     "input": [
      "!dir"
     ],
     "language": "python",
     "metadata": {},
     "outputs": [
      {
       "output_type": "stream",
       "stream": "stdout",
       "text": [
        " El volumen de la unidad C es Windows\n",
        " El n\u00a3mero de serie del volumen es: 6022-BD9A\n",
        "\n",
        " Directorio de C:\\Users\\juanis\\Documents\\GitHub\\Lania.iphyton.final\\Dia3\n",
        "\n",
        "15/11/2014  11:53 a. m.    <DIR>          .\n",
        "15/11/2014  11:53 a. m.    <DIR>          ..\n",
        "08/11/2014  01:41 p. m.    <DIR>          .ipynb_checkpoints\n",
        "15/11/2014  10:26 a. m.    <DIR>          files\n",
        "15/11/2014  10:26 a. m.    <DIR>          images\n",
        "01/11/2014  11:34 a. m.             8,220 Index.ipynb\n",
        "15/11/2014  11:52 a. m.    <DIR>          notebooks\n",
        "01/11/2014  11:34 a. m.             2,897 talktools.py\n",
        "15/11/2014  11:53 a. m.               189 Untitled0.ipynb\n",
        "               3 archivos         11,306 bytes\n",
        "               6 dirs  640,316,100,608 bytes libres\n"
       ]
      }
     ],
     "prompt_number": 1
    },
    {
     "cell_type": "code",
     "collapsed": false,
     "input": [],
     "language": "python",
     "metadata": {},
     "outputs": []
    }
   ],
   "metadata": {}
  }
 ]
}