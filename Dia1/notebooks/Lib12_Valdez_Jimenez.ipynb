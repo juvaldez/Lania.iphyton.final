{
 "metadata": {
  "name": "",
  "signature": "sha256:40d5f5c1a9dba80582658b9de1c8754e115ed74f8a4f53156b331b1163d081dd"
 },
 "nbformat": 3,
 "nbformat_minor": 0,
 "worksheets": [
  {
   "cells": [
    {
     "cell_type": "code",
     "collapsed": false,
     "input": [
      "#%%bash\n",
      "#cd gitdemo/\n",
      "import os\n",
      "os.getcwd()\n",
      "os.chdir('gitdemo')\n",
      "\n",
      "!git status\n",
      "!dir"
     ],
     "language": "python",
     "metadata": {},
     "outputs": [
      {
       "output_type": "stream",
       "stream": "stdout",
       "text": [
        "On branch master\n",
        "nothing to commit, working directory clean\n"
       ]
      },
      {
       "output_type": "stream",
       "stream": "stdout",
       "text": [
        " El volumen de la unidad C es Windows\n",
        " El n\u00a3mero de serie del volumen es: 6022-BD9A\n",
        "\n",
        " Directorio de C:\\Users\\juanis\\Documents\\IPython Notebooks\\lania.ipython\\Dia1\\notebooks\\gitdemo\n",
        "\n",
        "07/11/2014  12:55 p. m.    <DIR>          .\n",
        "07/11/2014  12:55 p. m.    <DIR>          ..\n",
        "07/11/2014  11:32 a. m.                58 archivo-nuevo.txt\n",
        "               1 archivos             58 bytes\n",
        "               2 dirs  643,931,226,112 bytes libres\n"
       ]
      }
     ],
     "prompt_number": 2
    },
    {
     "cell_type": "code",
     "collapsed": false,
     "input": [
      "#%%bash\n",
      "#cd gitdemo/\n",
      "\n",
      "!git branch experimento\n",
      "!git checkout experimento"
     ],
     "language": "python",
     "metadata": {},
     "outputs": [
      {
       "output_type": "stream",
       "stream": "stderr",
       "text": [
        "Switched to branch 'experimento'\n"
       ]
      }
     ],
     "prompt_number": 3
    },
    {
     "cell_type": "code",
     "collapsed": false,
     "input": [
      "#%%bash\n",
      "#cd gitdemo/\n",
      "\n",
      "!echo \"Se me ocurrieron unas ideas locas!\" > experimento.txt\n",
      "!git add experimento.txt\n",
      "!git commit -a -m\"Probando cosas nuevas\"\n",
      "!git slog"
     ],
     "language": "python",
     "metadata": {},
     "outputs": [
      {
       "output_type": "stream",
       "stream": "stdout",
       "text": [
        "[experimento 28dd1e4] Probando cosas nuevas\n",
        " 1 file changed, 1 insertion(+)\n",
        " create mode 100644 experimento.txt\n"
       ]
      },
      {
       "output_type": "stream",
       "stream": "stdout",
       "text": [
        "* 28dd1e4 Probando cosas nuevas\n",
        "* d9285ef se elimino el archivo 2\n",
        "* 23d38c2 agregamos una linea al archivo 2\n",
        "* de0410c Este archivo refleja el primer cambio al archivo2\n",
        "* 41c7fc0 Me gusta mas este nombre\n",
        "* 4daf233 Por fin algo de progreso\n",
        "* 4da2e45 Este archivo refleja el primer compromiso\n"
       ]
      }
     ],
     "prompt_number": 4
    },
    {
     "cell_type": "code",
     "collapsed": false,
     "input": [
      "#%%bash\n",
      "#cd gitdemo/\n",
      "\n",
      "!git checkout master\n",
      "!git slog"
     ],
     "language": "python",
     "metadata": {},
     "outputs": [
      {
       "output_type": "stream",
       "stream": "stderr",
       "text": [
        "Switched to branch 'master'\n"
       ]
      },
      {
       "output_type": "stream",
       "stream": "stdout",
       "text": [
        "* d9285ef se elimino el archivo 2\n",
        "* 23d38c2 agregamos una linea al archivo 2\n",
        "* de0410c Este archivo refleja el primer cambio al archivo2\n",
        "* 41c7fc0 Me gusta mas este nombre\n",
        "* 4daf233 Por fin algo de progreso\n",
        "* 4da2e45 Este archivo refleja el primer compromiso\n"
       ]
      }
     ],
     "prompt_number": 5
    },
    {
     "cell_type": "code",
     "collapsed": false,
     "input": [
      "#%%bash\n",
      "#cd gitdemo/\n",
      "\n",
      "!echo \"Ahora el trabajo continua en la rama master...\" >> archivo-nuevo.txt\n",
      "!git commit -a -m\"La rama mayor sigue creciendo\"\n",
      "!git slog"
     ],
     "language": "python",
     "metadata": {},
     "outputs": [
      {
       "output_type": "stream",
       "stream": "stdout",
       "text": [
        "[master a40c2a9] La rama mayor sigue creciendo\n",
        " 1 file changed, 1 insertion(+)\n"
       ]
      },
      {
       "output_type": "stream",
       "stream": "stdout",
       "text": [
        "* a40c2a9 La rama mayor sigue creciendo\n",
        "* d9285ef se elimino el archivo 2\n",
        "* 23d38c2 agregamos una linea al archivo 2\n",
        "* de0410c Este archivo refleja el primer cambio al archivo2\n",
        "* 41c7fc0 Me gusta mas este nombre\n",
        "* 4daf233 Por fin algo de progreso\n",
        "* 4da2e45 Este archivo refleja el primer compromiso\n"
       ]
      }
     ],
     "prompt_number": 6
    },
    {
     "cell_type": "code",
     "collapsed": false,
     "input": [
      "!dir"
     ],
     "language": "python",
     "metadata": {},
     "outputs": [
      {
       "output_type": "stream",
       "stream": "stdout",
       "text": [
        " El volumen de la unidad C es Windows\n",
        " El n\u00a3mero de serie del volumen es: 6022-BD9A\n",
        "\n",
        " Directorio de C:\\Users\\juanis\\Documents\\IPython Notebooks\\lania.ipython\\Dia1\\notebooks\\gitdemo\n",
        "\n",
        "07/11/2014  01:05 p. m.    <DIR>          .\n",
        "07/11/2014  01:05 p. m.    <DIR>          ..\n",
        "07/11/2014  01:06 p. m.               109 archivo-nuevo.txt\n",
        "               1 archivos            109 bytes\n",
        "               2 dirs  643,931,152,384 bytes libres\n"
       ]
      }
     ],
     "prompt_number": 7
    },
    {
     "cell_type": "code",
     "collapsed": false,
     "input": [
      "#%%bash\n",
      "#cd gitdemo/\n",
      "\n",
      "!git merge experimento\n",
      "!git slog"
     ],
     "language": "python",
     "metadata": {},
     "outputs": [
      {
       "output_type": "stream",
       "stream": "stdout",
       "text": [
        "Merge made by the 'recursive' strategy.\n",
        " experimento.txt | 1 +\n",
        " 1 file changed, 1 insertion(+)\n",
        " create mode 100644 experimento.txt\n"
       ]
      },
      {
       "output_type": "stream",
       "stream": "stdout",
       "text": [
        "*   5a81337 Merge branch 'experimento'\n",
        "|\\  \n",
        "| * 28dd1e4 Probando cosas nuevas\n",
        "* | a40c2a9 La rama mayor sigue creciendo\n",
        "|/  \n",
        "* d9285ef se elimino el archivo 2\n",
        "* 23d38c2 agregamos una linea al archivo 2\n",
        "* de0410c Este archivo refleja el primer cambio al archivo2\n",
        "* 41c7fc0 Me gusta mas este nombre\n",
        "* 4daf233 Por fin algo de progreso\n",
        "* 4da2e45 Este archivo refleja el primer compromiso\n"
       ]
      }
     ],
     "prompt_number": 8
    },
    {
     "cell_type": "code",
     "collapsed": false,
     "input": [
      "!dir"
     ],
     "language": "python",
     "metadata": {},
     "outputs": [
      {
       "output_type": "stream",
       "stream": "stdout",
       "text": [
        " El volumen de la unidad C es Windows\n",
        " El n\u00a3mero de serie del volumen es: 6022-BD9A\n",
        "\n",
        " Directorio de C:\\Users\\juanis\\Documents\\IPython Notebooks\\lania.ipython\\Dia1\\notebooks\\gitdemo\n",
        "\n",
        "07/11/2014  01:07 p. m.    <DIR>          .\n",
        "07/11/2014  01:07 p. m.    <DIR>          ..\n",
        "07/11/2014  01:06 p. m.               109 archivo-nuevo.txt\n",
        "07/11/2014  01:07 p. m.                39 experimento.txt\n",
        "               2 archivos            148 bytes\n",
        "               2 dirs  643,931,152,384 bytes libres\n"
       ]
      }
     ],
     "prompt_number": 9
    },
    {
     "cell_type": "code",
     "collapsed": false,
     "input": [],
     "language": "python",
     "metadata": {},
     "outputs": []
    }
   ],
   "metadata": {}
  }
 ]
}