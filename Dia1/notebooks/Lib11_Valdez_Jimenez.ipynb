{
 "metadata": {
  "name": "",
  "signature": "sha256:2490f7f02d7af76bb4f4bc1b7d2908c16bd2cb465ba2aa65532063b8a159a8b7"
 },
 "nbformat": 3,
 "nbformat_minor": 0,
 "worksheets": [
  {
   "cells": [
    {
     "cell_type": "code",
     "collapsed": false,
     "input": [
      "# %%bash\n",
      "!git config --global user.name 'Juana Valdez'\n",
      "!git config --global user.email juvaldez@uv.mx\n"
     ],
     "language": "python",
     "metadata": {},
     "outputs": [],
     "prompt_number": 2
    },
    {
     "cell_type": "code",
     "collapsed": false,
     "input": [
      "# %%bash\n",
      "\n",
      "!git config --global core.editor C:\\Windows\\System32\\notepad\n",
      "\n",
      "# En Windows Notepad debe funcionar\n",
      "\n",
      "# tambien configuremos los colores\n",
      "!git config --global color.ui \"auto\""
     ],
     "language": "python",
     "metadata": {},
     "outputs": [],
     "prompt_number": 3
    },
    {
     "cell_type": "code",
     "collapsed": false,
     "input": [
      "\n",
      "!git config --global credential.helper cache\n",
      "# Pondremos el tiempo para 1 hora (en segundos)\n",
      "!git config --global credential.helper 'cache --timeout=3600'\n",
      "\n",
      "!git config --global push.default simple"
     ],
     "language": "python",
     "metadata": {},
     "outputs": [],
     "prompt_number": 4
    },
    {
     "cell_type": "code",
     "collapsed": false,
     "input": [
      "!git"
     ],
     "language": "python",
     "metadata": {},
     "outputs": [
      {
       "output_type": "stream",
       "stream": "stdout",
       "text": [
        "usage: git [--version] [--help] [-C <path>] [-c name=value]\n",
        "           [--exec-path[=<path>]] [--html-path] [--man-path] [--info-path]\n",
        "           [-p|--paginate|--no-pager] [--no-replace-objects] [--bare]\n",
        "           [--git-dir=<path>] [--work-tree=<path>] [--namespace=<name>]\n",
        "           <command> [<args>]\n",
        "\n",
        "The most commonly used git commands are:\n",
        "   add        Add file contents to the index\n",
        "   bisect     Find by binary search the change that introduced a bug\n",
        "   branch     List, create, or delete branches\n",
        "   checkout   Checkout a branch or paths to the working tree\n",
        "   clone      Clone a repository into a new directory\n",
        "   commit     Record changes to the repository\n",
        "   diff       Show changes between commits, commit and working tree, etc\n",
        "   fetch      Download objects and refs from another repository\n",
        "   grep       Print lines matching a pattern\n",
        "   init       Create an empty Git repository or reinitialize an existing one\n",
        "   log        Show commit logs\n",
        "   merge      Join two or more development histories together\n",
        "   mv         Move or rename a file, a directory, or a symlink\n",
        "   pull       Fetch from and integrate with another repository or a local branch\n",
        "   push       Update remote refs along with associated objects\n",
        "   rebase     Forward-port local commits to the updated upstream head\n",
        "   reset      Reset current HEAD to the specified state\n",
        "   rm         Remove files from the working tree and from the index\n",
        "   show       Show various types of objects\n",
        "   status     Show the working tree status\n",
        "   tag        Create, list, delete or verify a tag object signed with GPG\n",
        "\n",
        "'git help -a' and 'git help -g' lists available subcommands and some\n",
        "concept guides. See 'git help <command>' or 'git help <concept>'\n",
        "to read about a specific subcommand or concept.\n"
       ]
      }
     ],
     "prompt_number": 5
    },
    {
     "cell_type": "code",
     "collapsed": false,
     "input": [
      "# %%bash\n",
      "!del -rf gitdemo\n",
      "!git init gitdemo"
     ],
     "language": "python",
     "metadata": {},
     "outputs": [
      {
       "output_type": "stream",
       "stream": "stderr",
       "text": [
        "No se pudo encontrar C:\\Users\\juanis\\Documents\\IPython Notebooks\\lania.ipython\\Dia1\\notebooks\\-rf\n"
       ]
      },
      {
       "output_type": "stream",
       "stream": "stdout",
       "text": [
        "Initialized empty Git repository in C:/Users/juanis/Documents/IPython Notebooks/lania.ipython/Dia1/notebooks/gitdemo/.git/\n"
       ]
      }
     ],
     "prompt_number": 6
    },
    {
     "cell_type": "code",
     "collapsed": false,
     "input": [
      "import os\n",
      "os.getcwd()\n",
      "os.chdir('gitdemo')\n",
      "#os.system('cd gitdemo')\n",
      "!dir\n",
      "#%%bash \n",
      "#!cd gitdemo\\\n"
     ],
     "language": "python",
     "metadata": {},
     "outputs": [
      {
       "output_type": "stream",
       "stream": "stdout",
       "text": [
        " El volumen de la unidad C es Windows\n",
        " El n\u00a3mero de serie del volumen es: 6022-BD9A\n",
        "\n",
        " Directorio de C:\\Users\\juanis\\Documents\\IPython Notebooks\\lania.ipython\\Dia1\\notebooks\\gitdemo\n",
        "\n",
        "07/11/2014  10:45 a. m.    <DIR>          .\n",
        "07/11/2014  10:45 a. m.    <DIR>          ..\n",
        "               0 archivos              0 bytes\n",
        "               2 dirs  643,941,806,080 bytes libres\n"
       ]
      }
     ],
     "prompt_number": 22
    },
    {
     "cell_type": "code",
     "collapsed": false,
     "input": [
      "import os\n",
      "os.getcwd()\n",
      "os.chdir('.git')\n",
      "#os.system('cd gitdemo')\n",
      "!dir"
     ],
     "language": "python",
     "metadata": {},
     "outputs": [
      {
       "output_type": "stream",
       "stream": "stdout",
       "text": [
        " El volumen de la unidad C es Windows\n",
        " El n\u00a3mero de serie del volumen es: 6022-BD9A\n",
        "\n",
        " Directorio de C:\\Users\\juanis\\Documents\\IPython Notebooks\\lania.ipython\\Dia1\\notebooks\\gitdemo\\.git\n",
        "\n",
        "07/11/2014  10:45 a. m.               157 config\n",
        "07/11/2014  10:45 a. m.                73 description\n",
        "07/11/2014  10:45 a. m.                23 HEAD\n",
        "07/11/2014  10:45 a. m.    <DIR>          hooks\n",
        "07/11/2014  10:45 a. m.    <DIR>          info\n",
        "07/11/2014  10:45 a. m.    <DIR>          objects\n",
        "07/11/2014  10:45 a. m.    <DIR>          refs\n",
        "               3 archivos            253 bytes\n",
        "               4 dirs  643,941,810,176 bytes libres\n"
       ]
      }
     ],
     "prompt_number": 23
    },
    {
     "cell_type": "code",
     "collapsed": false,
     "input": [
      "import os\n",
      "os.getcwd()\n",
      "os.chdir('..')\n",
      "#os.system('cd gitdemo')\n",
      "!dir"
     ],
     "language": "python",
     "metadata": {},
     "outputs": [
      {
       "output_type": "stream",
       "stream": "stdout",
       "text": [
        " El volumen de la unidad C es Windows\n",
        " El n\u00a3mero de serie del volumen es: 6022-BD9A\n",
        "\n",
        " Directorio de C:\\Users\\juanis\\Documents\\IPython Notebooks\\lania.ipython\\Dia1\\notebooks\\gitdemo\n",
        "\n",
        "07/11/2014  10:45 a. m.    <DIR>          .\n",
        "07/11/2014  10:45 a. m.    <DIR>          ..\n",
        "               0 archivos              0 bytes\n",
        "               2 dirs  643,941,834,752 bytes libres\n"
       ]
      }
     ],
     "prompt_number": 28
    },
    {
     "cell_type": "code",
     "collapsed": false,
     "input": [
      "#%%bash\n",
      "#cd gitdemo\n",
      "\n",
      "!echo \"Mi primer texto\" > archivo1.txt"
     ],
     "language": "python",
     "metadata": {},
     "outputs": [],
     "prompt_number": 29
    },
    {
     "cell_type": "code",
     "collapsed": false,
     "input": [
      "#%%bash\n",
      "#cd gitdemo/\n",
      "\n",
      "!git add archivo1.txt"
     ],
     "language": "python",
     "metadata": {},
     "outputs": [],
     "prompt_number": 30
    },
    {
     "cell_type": "code",
     "collapsed": false,
     "input": [
      "#%%bash\n",
      "#cd gitdemo/\n",
      "\n",
      "!git status"
     ],
     "language": "python",
     "metadata": {},
     "outputs": [
      {
       "output_type": "stream",
       "stream": "stdout",
       "text": [
        "On branch master\n",
        "\n",
        "Initial commit\n",
        "\n",
        "Changes to be committed:\n",
        "  (use \"git rm --cached <file>...\" to unstage)\n",
        "\n",
        "\tnew file:   archivo1.txt\n",
        "\n"
       ]
      }
     ],
     "prompt_number": 31
    },
    {
     "cell_type": "code",
     "collapsed": false,
     "input": [
      "#%%bash\n",
      "#cd gitdemo/\n",
      "\n",
      "!git commit -a -m\"Este archivo refleja el primer compromiso\""
     ],
     "language": "python",
     "metadata": {},
     "outputs": [
      {
       "output_type": "stream",
       "stream": "stdout",
       "text": [
        "[master (root-commit) 4da2e45] Este archivo refleja el primer compromiso\n",
        " 1 file changed, 1 insertion(+)\n",
        " create mode 100644 archivo1.txt\n"
       ]
      }
     ],
     "prompt_number": 32
    },
    {
     "cell_type": "code",
     "collapsed": false,
     "input": [
      "#%%bash\n",
      "# gitdemo/\n",
      "\n",
      "!git log"
     ],
     "language": "python",
     "metadata": {},
     "outputs": [
      {
       "output_type": "stream",
       "stream": "stdout",
       "text": [
        "commit 4da2e45621e2d25aad023a4d5b84b09cdf15b54c\n",
        "Author: Juana <juvaldez@uv.mx>\n",
        "Date:   Fri Nov 7 11:28:57 2014 -0600\n",
        "\n",
        "    Este archivo refleja el primer compromiso\n"
       ]
      }
     ],
     "prompt_number": 33
    },
    {
     "cell_type": "code",
     "collapsed": false,
     "input": [
      "#%%bash\n",
      "# gitdemo/\n",
      "\n",
      "!echo \"Esta linea es mi segundo texto...\" >> archivo1.txt"
     ],
     "language": "python",
     "metadata": {},
     "outputs": [],
     "prompt_number": 34
    },
    {
     "cell_type": "code",
     "collapsed": false,
     "input": [
      "#%%bash\n",
      "# gitdemo/\n",
      "\n",
      "!git diff"
     ],
     "language": "python",
     "metadata": {},
     "outputs": [
      {
       "output_type": "stream",
       "stream": "stdout",
       "text": [
        "diff --git a/archivo1.txt b/archivo1.txt\n",
        "index 6a94db5..9b8d845 100644\n",
        "--- a/archivo1.txt\n",
        "+++ b/archivo1.txt\n",
        "@@ -1 +1,2 @@\n",
        " \"Mi primer texto\" \n",
        "+\"Esta linea es mi segundo texto...\" \n"
       ]
      }
     ],
     "prompt_number": 35
    },
    {
     "cell_type": "code",
     "collapsed": false,
     "input": [
      "#%%bash\n",
      "#cd gitdemo/\n",
      "\n",
      "!git commit -a -m\"Por fin algo de progreso\""
     ],
     "language": "python",
     "metadata": {},
     "outputs": [
      {
       "output_type": "stream",
       "stream": "stdout",
       "text": [
        "[master 4daf233] Por fin algo de progreso\n",
        " 1 file changed, 1 insertion(+)\n"
       ]
      }
     ],
     "prompt_number": 36
    },
    {
     "cell_type": "code",
     "collapsed": false,
     "input": [
      "#%%bash\n",
      "#cd gitdemo/\n",
      "\n",
      "!git log"
     ],
     "language": "python",
     "metadata": {},
     "outputs": [
      {
       "output_type": "stream",
       "stream": "stdout",
       "text": [
        "commit 4daf233c98416ae7aa3d5b7f8f0c68838cc0f566\n",
        "Author: Juana <juvaldez@uv.mx>\n",
        "Date:   Fri Nov 7 11:34:00 2014 -0600\n",
        "\n",
        "    Por fin algo de progreso\n",
        "\n",
        "commit 4da2e45621e2d25aad023a4d5b84b09cdf15b54c\n",
        "Author: Juana <juvaldez@uv.mx>\n",
        "Date:   Fri Nov 7 11:28:57 2014 -0600\n",
        "\n",
        "    Este archivo refleja el primer compromiso\n"
       ]
      }
     ],
     "prompt_number": 37
    },
    {
     "cell_type": "code",
     "collapsed": false,
     "input": [
      "#%%bash\n",
      "#cd gitdemo/\n",
      "\n",
      "!git log --oneline --topo-order --graph"
     ],
     "language": "python",
     "metadata": {},
     "outputs": [
      {
       "output_type": "stream",
       "stream": "stdout",
       "text": [
        "* 4daf233 Por fin algo de progreso\n",
        "* 4da2e45 Este archivo refleja el primer compromiso\n"
       ]
      }
     ],
     "prompt_number": 38
    },
    {
     "cell_type": "code",
     "collapsed": false,
     "input": [
      "#%%bash\n",
      "#cd gitdemo\n",
      "\n",
      "!git config --global alias.slog \"log --oneline --topo-order --graph\"\n",
      "\n",
      "!git slog  "
     ],
     "language": "python",
     "metadata": {},
     "outputs": [
      {
       "output_type": "stream",
       "stream": "stdout",
       "text": [
        "* 4daf233 Por fin algo de progreso\n",
        "* 4da2e45 Este archivo refleja el primer compromiso\n"
       ]
      }
     ],
     "prompt_number": 39
    },
    {
     "cell_type": "code",
     "collapsed": false,
     "input": [
      "#%%bash\n",
      "#cd gitdemo/\n",
      "\n",
      "!git mv archivo1.txt archivo-nuevo.txt\n",
      "!git status"
     ],
     "language": "python",
     "metadata": {},
     "outputs": [
      {
       "output_type": "stream",
       "stream": "stdout",
       "text": [
        "On branch master\n",
        "Changes to be committed:\n",
        "  (use \"git reset HEAD <file>...\" to unstage)\n",
        "\n",
        "\trenamed:    archivo1.txt -> archivo-nuevo.txt\n",
        "\n"
       ]
      }
     ],
     "prompt_number": 42
    },
    {
     "cell_type": "code",
     "collapsed": false,
     "input": [
      "#%%bash\n",
      "# gitdemo/\n",
      "\n",
      "!git commit -a -m\"Me gusta mas este nombre\"\n",
      "!echo \"Aqui esta el resumen:\"\n",
      "!git slog"
     ],
     "language": "python",
     "metadata": {},
     "outputs": [
      {
       "output_type": "stream",
       "stream": "stdout",
       "text": [
        "[master 41c7fc0] Me gusta mas este nombre\n",
        " 1 file changed, 0 insertions(+), 0 deletions(-)\n",
        " rename archivo1.txt => archivo-nuevo.txt (100%)\n"
       ]
      },
      {
       "output_type": "stream",
       "stream": "stdout",
       "text": [
        "\"Aqui esta el resumen:\"\n"
       ]
      },
      {
       "output_type": "stream",
       "stream": "stdout",
       "text": [
        "* 41c7fc0 Me gusta mas este nombre\n",
        "* 4daf233 Por fin algo de progreso\n",
        "* 4da2e45 Este archivo refleja el primer compromiso\n"
       ]
      }
     ],
     "prompt_number": 43
    },
    {
     "cell_type": "code",
     "collapsed": false,
     "input": [
      "!dir"
     ],
     "language": "python",
     "metadata": {},
     "outputs": [
      {
       "output_type": "stream",
       "stream": "stdout",
       "text": [
        " El volumen de la unidad C es Windows\n",
        " El n\u00a3mero de serie del volumen es: 6022-BD9A\n",
        "\n",
        " Directorio de C:\\Users\\juanis\\Documents\\IPython Notebooks\\lania.ipython\\Dia1\\notebooks\\gitdemo\n",
        "\n",
        "07/11/2014  11:38 a. m.    <DIR>          .\n",
        "07/11/2014  11:38 a. m.    <DIR>          ..\n",
        "07/11/2014  11:32 a. m.                58 archivo-nuevo.txt\n",
        "               1 archivos             58 bytes\n",
        "               2 dirs  643,932,549,120 bytes libres\n"
       ]
      }
     ],
     "prompt_number": 44
    },
    {
     "cell_type": "code",
     "collapsed": false,
     "input": [
      "\n",
      "!echo \"Mi primer texto archivo 2\" > archivo2.txt"
     ],
     "language": "python",
     "metadata": {},
     "outputs": [],
     "prompt_number": 46
    },
    {
     "cell_type": "code",
     "collapsed": false,
     "input": [
      "!git add archivo2.txt"
     ],
     "language": "python",
     "metadata": {},
     "outputs": [],
     "prompt_number": 47
    },
    {
     "cell_type": "code",
     "collapsed": false,
     "input": [
      "!git commit -a -m\"Este archivo refleja el primer cambio al archivo2\""
     ],
     "language": "python",
     "metadata": {},
     "outputs": [
      {
       "output_type": "stream",
       "stream": "stdout",
       "text": [
        "[master de0410c] Este archivo refleja el primer cambio al archivo2\n",
        " 1 file changed, 1 insertion(+)\n",
        " create mode 100644 archivo2.txt\n"
       ]
      }
     ],
     "prompt_number": 48
    },
    {
     "cell_type": "code",
     "collapsed": false,
     "input": [
      "!echo \"Esta linea es mi segundo texto...\" >> archivo2.txt"
     ],
     "language": "python",
     "metadata": {},
     "outputs": [],
     "prompt_number": 49
    },
    {
     "cell_type": "code",
     "collapsed": false,
     "input": [
      "!git commit -a -m\"agregamos una linea al archivo 2\""
     ],
     "language": "python",
     "metadata": {},
     "outputs": [
      {
       "output_type": "stream",
       "stream": "stdout",
       "text": [
        "[master 23d38c2] agregamos una linea al archivo 2\n",
        " 1 file changed, 1 insertion(+)\n"
       ]
      }
     ],
     "prompt_number": 50
    },
    {
     "cell_type": "code",
     "collapsed": false,
     "input": [
      "!dir"
     ],
     "language": "python",
     "metadata": {},
     "outputs": [
      {
       "output_type": "stream",
       "stream": "stdout",
       "text": [
        " El volumen de la unidad C es Windows\n",
        " El n\u00a3mero de serie del volumen es: 6022-BD9A\n",
        "\n",
        " Directorio de C:\\Users\\juanis\\Documents\\IPython Notebooks\\lania.ipython\\Dia1\\notebooks\\gitdemo\n",
        "\n",
        "07/11/2014  12:49 p. m.    <DIR>          .\n",
        "07/11/2014  12:49 p. m.    <DIR>          ..\n",
        "07/11/2014  11:32 a. m.                58 archivo-nuevo.txt\n",
        "07/11/2014  12:52 p. m.                68 archivo2.txt\n",
        "               2 archivos            126 bytes\n",
        "               2 dirs  643,932,446,720 bytes libres\n"
       ]
      }
     ],
     "prompt_number": 51
    },
    {
     "cell_type": "code",
     "collapsed": false,
     "input": [
      "!git rm archivo2.txt "
     ],
     "language": "python",
     "metadata": {},
     "outputs": [
      {
       "output_type": "stream",
       "stream": "stdout",
       "text": [
        "rm 'archivo2.txt'\n"
       ]
      }
     ],
     "prompt_number": 52
    },
    {
     "cell_type": "code",
     "collapsed": false,
     "input": [
      "!dir"
     ],
     "language": "python",
     "metadata": {},
     "outputs": [
      {
       "output_type": "stream",
       "stream": "stdout",
       "text": [
        " El volumen de la unidad C es Windows\n",
        " El n\u00a3mero de serie del volumen es: 6022-BD9A\n",
        "\n",
        " Directorio de C:\\Users\\juanis\\Documents\\IPython Notebooks\\lania.ipython\\Dia1\\notebooks\\gitdemo\n",
        "\n",
        "07/11/2014  12:55 p. m.    <DIR>          .\n",
        "07/11/2014  12:55 p. m.    <DIR>          ..\n",
        "07/11/2014  11:32 a. m.                58 archivo-nuevo.txt\n",
        "               1 archivos             58 bytes\n",
        "               2 dirs  643,932,450,816 bytes libres\n"
       ]
      }
     ],
     "prompt_number": 53
    },
    {
     "cell_type": "code",
     "collapsed": false,
     "input": [
      "!git commit -a -m\"se elimino el archivo 2\""
     ],
     "language": "python",
     "metadata": {},
     "outputs": [
      {
       "output_type": "stream",
       "stream": "stdout",
       "text": [
        "[master d9285ef] se elimino el archivo 2\n",
        " 1 file changed, 2 deletions(-)\n",
        " delete mode 100644 archivo2.txt\n"
       ]
      }
     ],
     "prompt_number": 54
    },
    {
     "cell_type": "code",
     "collapsed": false,
     "input": [
      "!dir"
     ],
     "language": "python",
     "metadata": {},
     "outputs": [
      {
       "output_type": "stream",
       "stream": "stdout",
       "text": [
        " El volumen de la unidad C es Windows\n",
        " El n\u00a3mero de serie del volumen es: 6022-BD9A\n",
        "\n",
        " Directorio de C:\\Users\\juanis\\Documents\\IPython Notebooks\\lania.ipython\\Dia1\\notebooks\\gitdemo\n",
        "\n",
        "07/11/2014  12:55 p. m.    <DIR>          .\n",
        "07/11/2014  12:55 p. m.    <DIR>          ..\n",
        "07/11/2014  11:32 a. m.                58 archivo-nuevo.txt\n",
        "               1 archivos             58 bytes\n",
        "               2 dirs  643,931,926,528 bytes libres\n"
       ]
      }
     ],
     "prompt_number": 55
    },
    {
     "cell_type": "code",
     "collapsed": false,
     "input": [],
     "language": "python",
     "metadata": {},
     "outputs": []
    }
   ],
   "metadata": {}
  }
 ]
}