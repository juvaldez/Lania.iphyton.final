{
 "metadata": {
  "name": "",
  "signature": "sha256:d5c13df058c976ca0663be2a70ddadfdcae73bde853f290a33ace90498d489de"
 },
 "nbformat": 3,
 "nbformat_minor": 0,
 "worksheets": [
  {
   "cells": [
    {
     "cell_type": "code",
     "collapsed": false,
     "input": [
      "#%%bash\n",
      "#cd gitdemo/\n",
      "\n",
      "import os\n",
      "os.getcwd()\n",
      "os.chdir('gitdemo')\n",
      "!dir\n",
      "!echo \"Veamos si tenemos algun repositorio remoto aqui:\"\n",
      "!git remote -v"
     ],
     "language": "python",
     "metadata": {},
     "outputs": [
      {
       "output_type": "stream",
       "stream": "stdout",
       "text": [
        " El volumen de la unidad C es Windows\n",
        " El n\u00a3mero de serie del volumen es: 6022-BD9A\n",
        "\n",
        " Directorio de C:\\Users\\juanis\\Documents\\IPython Notebooks\\lania.ipython\\Dia1\\notebooks\\gitdemo\n",
        "\n",
        "07/11/2014  01:07 p. m.    <DIR>          .\n",
        "07/11/2014  01:07 p. m.    <DIR>          ..\n",
        "07/11/2014  01:06 p. m.               109 archivo-nuevo.txt\n",
        "07/11/2014  01:07 p. m.                39 experimento.txt\n",
        "               2 archivos            148 bytes\n",
        "               2 dirs  643,931,258,880 bytes libres\n"
       ]
      },
      {
       "output_type": "stream",
       "stream": "stdout",
       "text": [
        "\"Veamos si tenemos algun repositorio remoto aqui:\"\n"
       ]
      }
     ],
     "prompt_number": 1
    },
    {
     "cell_type": "code",
     "collapsed": false,
     "input": [
      "!git remote add origin https://github.com/juvaldez/prueba.git\n"
     ],
     "language": "python",
     "metadata": {},
     "outputs": [
      {
       "output_type": "stream",
       "stream": "stderr",
       "text": [
        "fatal: remote origin already exists.\n"
       ]
      }
     ],
     "prompt_number": 2
    },
    {
     "cell_type": "code",
     "collapsed": false,
     "input": [
      "!git push origin master"
     ],
     "language": "python",
     "metadata": {},
     "outputs": []
    },
    {
     "cell_type": "code",
     "collapsed": false,
     "input": [
      "!git remote -v"
     ],
     "language": "python",
     "metadata": {},
     "outputs": [
      {
       "output_type": "stream",
       "stream": "stdout",
       "text": [
        "origin\thttps://github.com/htapia/lania.ipython.git (fetch)\n",
        "origin\thttps://github.com/htapia/lania.ipython.git (push)\n",
        "upstream\thttps://github.com/Tooblippe/zapycon2013_ipython_science.git (fetch)\n",
        "upstream\thttps://github.com/Tooblippe/zapycon2013_ipython_science.git (push)\n"
       ]
      }
     ],
     "prompt_number": 1
    },
    {
     "cell_type": "code",
     "collapsed": false,
     "input": [],
     "language": "python",
     "metadata": {},
     "outputs": []
    },
    {
     "cell_type": "code",
     "collapsed": false,
     "input": [],
     "language": "python",
     "metadata": {},
     "outputs": []
    },
    {
     "cell_type": "code",
     "collapsed": false,
     "input": [],
     "language": "python",
     "metadata": {},
     "outputs": []
    }
   ],
   "metadata": {}
  }
 ]
}